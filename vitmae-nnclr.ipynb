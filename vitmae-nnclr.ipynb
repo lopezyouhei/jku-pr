{
 "cells": [
  {
   "cell_type": "code",
   "execution_count": 1,
   "metadata": {},
   "outputs": [
    {
     "name": "stderr",
     "output_type": "stream",
     "text": [
      "[nltk_data] Downloading package wordnet to\n",
      "[nltk_data]     C:\\Users\\lopez\\AppData\\Roaming\\nltk_data...\n",
      "[nltk_data]   Package wordnet is already up-to-date!\n",
      "c:\\Users\\lopez\\anaconda3\\envs\\jku-pr\\lib\\site-packages\\dask\\dataframe\\_pyarrow_compat.py:17: FutureWarning: Minimal version of pyarrow will soon be increased to 14.0.1. You are using 11.0.0. Please consider upgrading.\n",
      "  warnings.warn(\n"
     ]
    }
   ],
   "source": [
    "from lightly.loss import NTXentLoss\n",
    "from lightly.models.modules import (\n",
    "    NNCLRPredictionHead,\n",
    "    NNCLRProjectionHead,\n",
    "    NNMemoryBankModule,\n",
    ")\n",
    "import matplotlib.pyplot as plt\n",
    "import nltk\n",
    "nltk.download('wordnet')\n",
    "from nltk.corpus import wordnet as wn\n",
    "import numpy as np\n",
    "import os\n",
    "from sklearn.neighbors import KNeighborsClassifier\n",
    "from sklearn.preprocessing import normalize\n",
    "import torch\n",
    "from torch import nn\n",
    "import torch.nn.functional as F\n",
    "import torch.optim as optim\n",
    "import umap\n",
    "import umap.plot\n",
    "import wandb\n",
    "import yaml"
   ]
  },
  {
   "cell_type": "code",
   "execution_count": 2,
   "metadata": {},
   "outputs": [
    {
     "data": {
      "text/plain": [
       "'cuda'"
      ]
     },
     "execution_count": 2,
     "metadata": {},
     "output_type": "execute_result"
    }
   ],
   "source": [
    "\n",
    "data_path = os.path.join(os.getcwd(), \"features_mae_large/\")\n",
    "model_path = r\"C:\\Users\\lopez\\Projects\\jku-pr\\models\"\n",
    "device = \"cuda\" if torch.cuda.is_available() else \"cpu\"\n",
    "device"
   ]
  },
  {
   "cell_type": "code",
   "execution_count": 3,
   "metadata": {},
   "outputs": [],
   "source": [
    "# Load each YAML file into a dictionary\n",
    "def load_yaml(file_path):\n",
    "    with open(file_path, 'r') as file:\n",
    "        return yaml.safe_load(file)\n",
    "\n",
    "classid_to_names = load_yaml(os.path.join(data_path, \"in1k_classid_to_names.yaml\"))\n",
    "class_to_classid = load_yaml(os.path.join(data_path, \"in1k_class_to_classid.yaml\"))\n",
    "class_to_classname = load_yaml(os.path.join(data_path, \"in1k_class_to_classname.yaml\"))"
   ]
  },
  {
   "cell_type": "markdown",
   "metadata": {},
   "source": [
    "### Understand Data"
   ]
  },
  {
   "cell_type": "code",
   "execution_count": 4,
   "metadata": {},
   "outputs": [
    {
     "name": "stdout",
     "output_type": "stream",
     "text": [
      "torch.Size([50000, 1024])\n"
     ]
    }
   ],
   "source": [
    "test_center_crop = torch.load(data_path + \"mae_l23_cls_test_centercrop.th\")\n",
    "print(test_center_crop.shape)\n",
    "del test_center_crop"
   ]
  },
  {
   "cell_type": "code",
   "execution_count": 29,
   "metadata": {},
   "outputs": [
    {
     "ename": "KeyboardInterrupt",
     "evalue": "",
     "output_type": "error",
     "traceback": [
      "\u001b[1;31m---------------------------------------------------------------------------\u001b[0m",
      "\u001b[1;31mKeyboardInterrupt\u001b[0m                         Traceback (most recent call last)",
      "Cell \u001b[1;32mIn[29], line 1\u001b[0m\n\u001b[1;32m----> 1\u001b[0m train_center_crop \u001b[38;5;241m=\u001b[39m \u001b[43mtorch\u001b[49m\u001b[38;5;241;43m.\u001b[39;49m\u001b[43mload\u001b[49m\u001b[43m(\u001b[49m\u001b[43mdata_path\u001b[49m\u001b[43m \u001b[49m\u001b[38;5;241;43m+\u001b[39;49m\u001b[43m \u001b[49m\u001b[38;5;124;43m\"\u001b[39;49m\u001b[38;5;124;43mmae_l23_cls_train_centercrop.th\u001b[39;49m\u001b[38;5;124;43m\"\u001b[39;49m\u001b[43m)\u001b[49m\n\u001b[0;32m      2\u001b[0m \u001b[38;5;28mprint\u001b[39m(train_center_crop\u001b[38;5;241m.\u001b[39mshape)\n\u001b[0;32m      3\u001b[0m \u001b[38;5;28;01mdel\u001b[39;00m train_center_crop\n",
      "File \u001b[1;32mc:\\Users\\lopez\\anaconda3\\envs\\jku-pr\\lib\\site-packages\\torch\\serialization.py:1014\u001b[0m, in \u001b[0;36mload\u001b[1;34m(f, map_location, pickle_module, weights_only, mmap, **pickle_load_args)\u001b[0m\n\u001b[0;32m   1012\u001b[0m             \u001b[38;5;28;01mexcept\u001b[39;00m \u001b[38;5;167;01mRuntimeError\u001b[39;00m \u001b[38;5;28;01mas\u001b[39;00m e:\n\u001b[0;32m   1013\u001b[0m                 \u001b[38;5;28;01mraise\u001b[39;00m pickle\u001b[38;5;241m.\u001b[39mUnpicklingError(UNSAFE_MESSAGE \u001b[38;5;241m+\u001b[39m \u001b[38;5;28mstr\u001b[39m(e)) \u001b[38;5;28;01mfrom\u001b[39;00m \u001b[38;5;28;01mNone\u001b[39;00m\n\u001b[1;32m-> 1014\u001b[0m         \u001b[38;5;28;01mreturn\u001b[39;00m _load(opened_zipfile,\n\u001b[0;32m   1015\u001b[0m                      map_location,\n\u001b[0;32m   1016\u001b[0m                      pickle_module,\n\u001b[0;32m   1017\u001b[0m                      overall_storage\u001b[38;5;241m=\u001b[39moverall_storage,\n\u001b[0;32m   1018\u001b[0m                      \u001b[38;5;241m*\u001b[39m\u001b[38;5;241m*\u001b[39mpickle_load_args)\n\u001b[0;32m   1019\u001b[0m \u001b[38;5;28;01mif\u001b[39;00m mmap:\n\u001b[0;32m   1020\u001b[0m     \u001b[38;5;28;01mraise\u001b[39;00m \u001b[38;5;167;01mRuntimeError\u001b[39;00m(\u001b[38;5;124m\"\u001b[39m\u001b[38;5;124mmmap can only be used with files saved with \u001b[39m\u001b[38;5;124m\"\u001b[39m,\n\u001b[0;32m   1021\u001b[0m                        \u001b[38;5;124m\"\u001b[39m\u001b[38;5;124m`torch.save(_use_new_zipfile_serialization=True), \u001b[39m\u001b[38;5;124m\"\u001b[39m\n\u001b[0;32m   1022\u001b[0m                        \u001b[38;5;124m\"\u001b[39m\u001b[38;5;124mplease torch.save your checkpoint with this option in order to use mmap.\u001b[39m\u001b[38;5;124m\"\u001b[39m)\n",
      "File \u001b[1;32mc:\\Users\\lopez\\anaconda3\\envs\\jku-pr\\lib\\site-packages\\torch\\serialization.py:1422\u001b[0m, in \u001b[0;36m_load\u001b[1;34m(zip_file, map_location, pickle_module, pickle_file, overall_storage, **pickle_load_args)\u001b[0m\n\u001b[0;32m   1420\u001b[0m unpickler \u001b[38;5;241m=\u001b[39m UnpicklerWrapper(data_file, \u001b[38;5;241m*\u001b[39m\u001b[38;5;241m*\u001b[39mpickle_load_args)\n\u001b[0;32m   1421\u001b[0m unpickler\u001b[38;5;241m.\u001b[39mpersistent_load \u001b[38;5;241m=\u001b[39m persistent_load\n\u001b[1;32m-> 1422\u001b[0m result \u001b[38;5;241m=\u001b[39m \u001b[43munpickler\u001b[49m\u001b[38;5;241;43m.\u001b[39;49m\u001b[43mload\u001b[49m\u001b[43m(\u001b[49m\u001b[43m)\u001b[49m\n\u001b[0;32m   1424\u001b[0m torch\u001b[38;5;241m.\u001b[39m_utils\u001b[38;5;241m.\u001b[39m_validate_loaded_sparse_tensors()\n\u001b[0;32m   1425\u001b[0m torch\u001b[38;5;241m.\u001b[39m_C\u001b[38;5;241m.\u001b[39m_log_api_usage_metadata(\n\u001b[0;32m   1426\u001b[0m     \u001b[38;5;124m\"\u001b[39m\u001b[38;5;124mtorch.load.metadata\u001b[39m\u001b[38;5;124m\"\u001b[39m, {\u001b[38;5;124m\"\u001b[39m\u001b[38;5;124mserialization_id\u001b[39m\u001b[38;5;124m\"\u001b[39m: zip_file\u001b[38;5;241m.\u001b[39mserialization_id()}\n\u001b[0;32m   1427\u001b[0m )\n",
      "File \u001b[1;32mc:\\Users\\lopez\\anaconda3\\envs\\jku-pr\\lib\\site-packages\\torch\\serialization.py:1392\u001b[0m, in \u001b[0;36m_load.<locals>.persistent_load\u001b[1;34m(saved_id)\u001b[0m\n\u001b[0;32m   1390\u001b[0m \u001b[38;5;28;01melse\u001b[39;00m:\n\u001b[0;32m   1391\u001b[0m     nbytes \u001b[38;5;241m=\u001b[39m numel \u001b[38;5;241m*\u001b[39m torch\u001b[38;5;241m.\u001b[39m_utils\u001b[38;5;241m.\u001b[39m_element_size(dtype)\n\u001b[1;32m-> 1392\u001b[0m     typed_storage \u001b[38;5;241m=\u001b[39m \u001b[43mload_tensor\u001b[49m\u001b[43m(\u001b[49m\u001b[43mdtype\u001b[49m\u001b[43m,\u001b[49m\u001b[43m \u001b[49m\u001b[43mnbytes\u001b[49m\u001b[43m,\u001b[49m\u001b[43m \u001b[49m\u001b[43mkey\u001b[49m\u001b[43m,\u001b[49m\u001b[43m \u001b[49m\u001b[43m_maybe_decode_ascii\u001b[49m\u001b[43m(\u001b[49m\u001b[43mlocation\u001b[49m\u001b[43m)\u001b[49m\u001b[43m)\u001b[49m\n\u001b[0;32m   1394\u001b[0m \u001b[38;5;28;01mreturn\u001b[39;00m typed_storage\n",
      "File \u001b[1;32mc:\\Users\\lopez\\anaconda3\\envs\\jku-pr\\lib\\site-packages\\torch\\serialization.py:1357\u001b[0m, in \u001b[0;36m_load.<locals>.load_tensor\u001b[1;34m(dtype, numel, key, location)\u001b[0m\n\u001b[0;32m   1355\u001b[0m     storage \u001b[38;5;241m=\u001b[39m overall_storage[storage_offset:storage_offset \u001b[38;5;241m+\u001b[39m numel]\n\u001b[0;32m   1356\u001b[0m \u001b[38;5;28;01melse\u001b[39;00m:\n\u001b[1;32m-> 1357\u001b[0m     storage \u001b[38;5;241m=\u001b[39m \u001b[43mzip_file\u001b[49m\u001b[38;5;241;43m.\u001b[39;49m\u001b[43mget_storage_from_record\u001b[49m\u001b[43m(\u001b[49m\u001b[43mname\u001b[49m\u001b[43m,\u001b[49m\u001b[43m \u001b[49m\u001b[43mnumel\u001b[49m\u001b[43m,\u001b[49m\u001b[43m \u001b[49m\u001b[43mtorch\u001b[49m\u001b[38;5;241;43m.\u001b[39;49m\u001b[43mUntypedStorage\u001b[49m\u001b[43m)\u001b[49m\u001b[38;5;241m.\u001b[39m_typed_storage()\u001b[38;5;241m.\u001b[39m_untyped_storage\n\u001b[0;32m   1358\u001b[0m \u001b[38;5;66;03m# swap here if byteswapping is needed\u001b[39;00m\n\u001b[0;32m   1359\u001b[0m \u001b[38;5;28;01mif\u001b[39;00m byteorderdata \u001b[38;5;129;01mis\u001b[39;00m \u001b[38;5;129;01mnot\u001b[39;00m \u001b[38;5;28;01mNone\u001b[39;00m:\n",
      "\u001b[1;31mKeyboardInterrupt\u001b[0m: "
     ]
    }
   ],
   "source": [
    "train_center_crop = torch.load(data_path + \"mae_l23_cls_train_centercrop.th\")\n",
    "print(train_center_crop.shape)\n",
    "del train_center_crop"
   ]
  },
  {
   "cell_type": "code",
   "execution_count": null,
   "metadata": {},
   "outputs": [
    {
     "name": "stdout",
     "output_type": "stream",
     "text": [
      "torch.Size([1281167, 1024])\n"
     ]
    }
   ],
   "source": [
    "v1_seed0 = torch.load(data_path + \"tensors_v1_seed_0.th\")\n",
    "print(v1_seed0.shape)\n",
    "del v1_seed0"
   ]
  },
  {
   "cell_type": "code",
   "execution_count": 8,
   "metadata": {},
   "outputs": [
    {
     "name": "stdout",
     "output_type": "stream",
     "text": [
      "torch.Size([1281167, 1024])\n"
     ]
    }
   ],
   "source": [
    "v1_seed2 = torch.load(data_path + \"tensors_v1_seed_2.th\")\n",
    "print(v1_seed2.shape)\n",
    "del v1_seed2"
   ]
  },
  {
   "cell_type": "code",
   "execution_count": 9,
   "metadata": {},
   "outputs": [
    {
     "name": "stdout",
     "output_type": "stream",
     "text": [
      "torch.Size([1281167, 1024])\n"
     ]
    }
   ],
   "source": [
    "v1_seed3 = torch.load(data_path + \"tensors_v1_seed_3.th\")\n",
    "print(v1_seed3.shape)\n",
    "del v1_seed3"
   ]
  },
  {
   "cell_type": "code",
   "execution_count": 10,
   "metadata": {},
   "outputs": [
    {
     "name": "stdout",
     "output_type": "stream",
     "text": [
      "torch.Size([1281167, 1024])\n"
     ]
    }
   ],
   "source": [
    "v1_seed4 = torch.load(data_path + \"tensors_v1_seed_4.th\")\n",
    "print(v1_seed4.shape)\n",
    "del v1_seed4"
   ]
  },
  {
   "cell_type": "code",
   "execution_count": 11,
   "metadata": {},
   "outputs": [
    {
     "name": "stdout",
     "output_type": "stream",
     "text": [
      "torch.Size([1281167, 1024])\n"
     ]
    }
   ],
   "source": [
    "v1_seed5 = torch.load(data_path + \"tensors_v1_seed_5.th\")\n",
    "print(v1_seed5.shape)\n",
    "del v1_seed5"
   ]
  },
  {
   "cell_type": "code",
   "execution_count": 12,
   "metadata": {},
   "outputs": [
    {
     "name": "stdout",
     "output_type": "stream",
     "text": [
      "torch.Size([1281167, 1024])\n"
     ]
    }
   ],
   "source": [
    "v1_seed6 = torch.load(data_path + \"tensors_v1_seed_6.th\")\n",
    "print(v1_seed6.shape)\n",
    "del v1_seed6"
   ]
  },
  {
   "cell_type": "code",
   "execution_count": 13,
   "metadata": {},
   "outputs": [
    {
     "name": "stdout",
     "output_type": "stream",
     "text": [
      "torch.Size([1281167, 1024])\n"
     ]
    }
   ],
   "source": [
    "v2_seed0 = torch.load(data_path + \"tensors_v2_seed_0.th\")\n",
    "print(v2_seed0.shape)\n",
    "del v2_seed0"
   ]
  },
  {
   "cell_type": "code",
   "execution_count": 14,
   "metadata": {},
   "outputs": [
    {
     "name": "stdout",
     "output_type": "stream",
     "text": [
      "torch.Size([1281167, 1024])\n"
     ]
    }
   ],
   "source": [
    "v2_seed1 = torch.load(data_path + \"tensors_v2_seed_1.th\")\n",
    "print(v2_seed1.shape)\n",
    "del v2_seed1"
   ]
  },
  {
   "cell_type": "code",
   "execution_count": 15,
   "metadata": {},
   "outputs": [
    {
     "name": "stdout",
     "output_type": "stream",
     "text": [
      "torch.Size([1281167, 1024])\n"
     ]
    }
   ],
   "source": [
    "v2_seed2 = torch.load(data_path + \"tensors_v2_seed_2.th\")\n",
    "print(v2_seed2.shape)\n",
    "del v2_seed2"
   ]
  },
  {
   "cell_type": "code",
   "execution_count": 16,
   "metadata": {},
   "outputs": [
    {
     "name": "stdout",
     "output_type": "stream",
     "text": [
      "torch.Size([1281167, 1024])\n"
     ]
    }
   ],
   "source": [
    "v2_seed3 = torch.load(data_path + \"tensors_v2_seed_3.th\")\n",
    "print(v2_seed3.shape)\n",
    "del v2_seed3"
   ]
  },
  {
   "cell_type": "code",
   "execution_count": 17,
   "metadata": {},
   "outputs": [
    {
     "name": "stdout",
     "output_type": "stream",
     "text": [
      "torch.Size([1281167, 1024])\n"
     ]
    }
   ],
   "source": [
    "v2_seed4 = torch.load(data_path + \"tensors_v2_seed_4.th\")\n",
    "print(v2_seed4.shape)\n",
    "del v2_seed4"
   ]
  },
  {
   "cell_type": "code",
   "execution_count": 18,
   "metadata": {},
   "outputs": [
    {
     "name": "stdout",
     "output_type": "stream",
     "text": [
      "torch.Size([1281167, 1024])\n"
     ]
    }
   ],
   "source": [
    "v2_seed5 = torch.load(data_path + \"tensors_v2_seed_5.th\")\n",
    "print(v2_seed5.shape)\n",
    "del v2_seed5"
   ]
  },
  {
   "cell_type": "code",
   "execution_count": 19,
   "metadata": {},
   "outputs": [
    {
     "name": "stdout",
     "output_type": "stream",
     "text": [
      "torch.Size([1281167, 1024])\n"
     ]
    }
   ],
   "source": [
    "v2_seed6 = torch.load(data_path + \"tensors_v2_seed_6.th\")\n",
    "print(v2_seed6.shape)\n",
    "del v2_seed6"
   ]
  },
  {
   "cell_type": "code",
   "execution_count": 20,
   "metadata": {},
   "outputs": [
    {
     "name": "stdout",
     "output_type": "stream",
     "text": [
      "torch.Size([50000])\n",
      "tensor([0, 0, 0, 0, 0, 0, 0, 0, 0, 0])\n",
      "torch.Size([1000])\n"
     ]
    }
   ],
   "source": [
    "test_labels = torch.load(data_path + \"test-labels.th\")\n",
    "print(test_labels.shape)\n",
    "print(test_labels[0:10])\n",
    "print(test_labels.unique().shape)\n",
    "del test_labels"
   ]
  },
  {
   "cell_type": "code",
   "execution_count": 21,
   "metadata": {},
   "outputs": [
    {
     "name": "stdout",
     "output_type": "stream",
     "text": [
      "torch.Size([1281167])\n",
      "torch.Size([1000])\n"
     ]
    }
   ],
   "source": [
    "train_labels = torch.load(data_path + \"train-labels.th\")\n",
    "print(train_labels.shape)\n",
    "print(train_labels.unique().shape)\n",
    "del train_labels"
   ]
  },
  {
   "cell_type": "markdown",
   "metadata": {},
   "source": [
    "## Group Classes"
   ]
  },
  {
   "cell_type": "code",
   "execution_count": 16,
   "metadata": {},
   "outputs": [],
   "source": [
    "# dictionary for higher-level categories for UMAP visualization\n",
    "categories = {\n",
    "    'animals': 'animal.n.01',   \n",
    "    'vehicles': 'vehicle.n.01', \n",
    "    'household': 'artifact.n.01',\n",
    "    'food': 'food.n.01',\n",
    "    'nature': 'natural_object.n.01'\n",
    "}\n",
    "\n",
    "# just a function to help with checking if category exists\n",
    "def check_synset_exists(synset_name):\n",
    "    try:\n",
    "        # Attempt to fetch the synset using the provided name\n",
    "        syn = wn.synset(synset_name)\n",
    "        return True, syn.definition()  # Return True and the definition if it exists\n",
    "    except nltk.corpus.reader.wordnet.WordNetError:\n",
    "        return False, None  # Return False and None if the synset does not exist\n",
    "\n",
    "def get_category(labels, categories, class_to_classid):\n",
    "    category_names = list(categories.keys())\n",
    "    synset_list = list(categories.values())\n",
    "    \n",
    "    for synset_name in synset_list:\n",
    "        if not check_synset_exists(synset_name):\n",
    "            raise ValueError(\n",
    "                f\"The synset '{synset_name}' is not valid.\"\n",
    "                )\n",
    "    \n",
    "    # initialize list to store category labels\n",
    "    category_labels = []\n",
    "    # loop through all labels\n",
    "    for label in labels:\n",
    "        # get the class_id from the class_to_classid dictionary\n",
    "        class_id = class_to_classid[label.item()]\n",
    "        synset = wn.synset_from_pos_and_offset('n', int(class_id[1:]))\n",
    "        searching = True\n",
    "        while searching:\n",
    "            # check if the synset is in the synset_list\n",
    "            if synset.name() in synset_list:\n",
    "                # if it is, add the category to the category_labels list\n",
    "                category_labels.append(synset_list.index(synset.name()))\n",
    "                searching = False\n",
    "            else:\n",
    "                try:\n",
    "                    # if it is not, move up the hypernym tree\n",
    "                    synset = synset.hypernyms()[0]\n",
    "                except:\n",
    "                    # if there are no more hypernyms, add -1 to the category_labels list\n",
    "                    category_labels.append(-1)\n",
    "                    searching = False\n",
    "\n",
    "    return category_names, category_labels"
   ]
  },
  {
   "cell_type": "code",
   "execution_count": 17,
   "metadata": {},
   "outputs": [],
   "source": [
    "test_labels = torch.load(data_path + \"test-labels.th\")\n",
    "category_names, category_labels = get_category(test_labels, categories, class_to_classid)"
   ]
  },
  {
   "cell_type": "code",
   "execution_count": 18,
   "metadata": {},
   "outputs": [
    {
     "data": {
      "text/plain": [
       "(tensor([-1.,  0.,  1.,  2.,  3.,  4.]),\n",
       " tensor([ 2050, 19900,  1200, 24900,  1100,   850]))"
      ]
     },
     "execution_count": 18,
     "metadata": {},
     "output_type": "execute_result"
    }
   ],
   "source": [
    "torch.Tensor(category_labels).unique(return_counts=True)"
   ]
  },
  {
   "cell_type": "code",
   "execution_count": 19,
   "metadata": {},
   "outputs": [
    {
     "name": "stdout",
     "output_type": "stream",
     "text": [
      "['animals', 'vehicles', 'household', 'food', 'nature']\n"
     ]
    }
   ],
   "source": [
    "print(category_names)"
   ]
  },
  {
   "cell_type": "markdown",
   "metadata": {},
   "source": [
    "### Model Stuff"
   ]
  },
  {
   "cell_type": "code",
   "execution_count": 8,
   "metadata": {},
   "outputs": [],
   "source": [
    "class MAEDataset(torch.utils.data.Dataset):\n",
    "    def __init__(self, view1_path, view2_path):\n",
    "\n",
    "        self.data1 = torch.load(view1_path)\n",
    "        self.data2 = torch.load(view2_path)\n",
    "        assert self.data1.shape == self.data2.shape, \"view1 and view2 must have the same shape\"\n",
    "        self.length = self.data1.shape[0]\n",
    "\n",
    "    def __len__(self):\n",
    "        return self.length\n",
    "\n",
    "    def __getitem__(self, idx):\n",
    "        return self.data1[idx], self.data2[idx]"
   ]
  },
  {
   "cell_type": "code",
   "execution_count": 9,
   "metadata": {},
   "outputs": [],
   "source": [
    "class NNCLRHead(nn.Module):\n",
    "    def __init__(self, project_hidden_dim, project_output_dim, \n",
    "                 predict_hidden_dim, predict_output_dim):\n",
    "        super().__init__()\n",
    "\n",
    "        self.projection_head = NNCLRProjectionHead(1024, # input_dim \n",
    "                                                   project_hidden_dim, # hidden_dim \n",
    "                                                   project_output_dim) # output_dim\n",
    "        self.prediction_head = NNCLRPredictionHead(project_output_dim, # input_dim \n",
    "                                                   predict_hidden_dim, # hidden_dim\n",
    "                                                   predict_output_dim) # output_dim\n",
    "        \n",
    "        self.proj_activation = None\n",
    "        self.hook = self.projection_head.layers[2].register_forward_hook(self.capture_activations)\n",
    "    \n",
    "    def capture_activations(self, module, input, output):\n",
    "        self.proj_activation = output\n",
    "\n",
    "    def forward(self, x):\n",
    "        z = self.projection_head(x)\n",
    "        p = self.prediction_head(z)\n",
    "        z = z.detach()\n",
    "        return self.proj_activation, z, p\n",
    "    \n",
    "    def remove_hook(self):\n",
    "        self.hook.remove()"
   ]
  },
  {
   "cell_type": "code",
   "execution_count": 10,
   "metadata": {},
   "outputs": [],
   "source": [
    "# Hyperparameters\n",
    "EPOCHS = 10\n",
    "BATCH_SIZE = 4096\n",
    "LR = 0.4 # 0.3\n",
    "TEMPERATURE = 0.15\n",
    "QUEUE_SIZE = 98304\n",
    "WEIGHT_DECAY = 1e-6\n",
    "PROJECT_HIDDEN_DIM = 2048\n",
    "PROJECT_OUTPUT_DIM = 256\n",
    "PREDICTION_HIDDEN_DIM = 4096\n",
    "PREDICTION_OUTPUT_DIM = 256"
   ]
  },
  {
   "cell_type": "markdown",
   "metadata": {},
   "source": [
    "# Training"
   ]
  },
  {
   "cell_type": "code",
   "execution_count": 10,
   "metadata": {},
   "outputs": [],
   "source": [
    "view1_path = os.path.join(data_path, \"tensors_v1_seed_0.th\").replace(\"\\\\\", \"/\")\n",
    "view2_path = os.path.join(data_path, \"tensors_v2_seed_0.th\").replace(\"\\\\\", \"/\")"
   ]
  },
  {
   "cell_type": "code",
   "execution_count": 13,
   "metadata": {},
   "outputs": [
    {
     "name": "stdout",
     "output_type": "stream",
     "text": [
      "Starting Training\n",
      "epoch: 00, loss: 5.76129\n",
      "epoch: 01, loss: 5.59256\n",
      "epoch: 02, loss: 5.57957\n",
      "epoch: 03, loss: 5.57321\n",
      "epoch: 04, loss: 5.57425\n",
      "epoch: 05, loss: 5.57750\n",
      "epoch: 06, loss: 5.58436\n",
      "epoch: 07, loss: 5.59258\n",
      "epoch: 08, loss: 5.59940\n",
      "epoch: 09, loss: 5.60792\n"
     ]
    }
   ],
   "source": [
    "model = NNCLRHead(PROJECT_HIDDEN_DIM, \n",
    "                  PROJECT_OUTPUT_DIM, \n",
    "                  PREDICTION_HIDDEN_DIM, \n",
    "                  PREDICTION_OUTPUT_DIM)\n",
    "model.to(device)\n",
    "memory_bank = NNMemoryBankModule(size=(QUEUE_SIZE, PREDICTION_OUTPUT_DIM))\n",
    "memory_bank.to(device)\n",
    "criterion = NTXentLoss(temperature=TEMPERATURE, memory_bank_size=(QUEUE_SIZE, PREDICTION_OUTPUT_DIM))\n",
    "optimizer = torch.optim.SGD(model.parameters(), lr=LR, weight_decay=WEIGHT_DECAY)\n",
    "\n",
    "dataset = MAEDataset(view1_path, view2_path)\n",
    "dataloader = torch.utils.data.DataLoader(\n",
    "    dataset, \n",
    "    batch_size=BATCH_SIZE,\n",
    "    shuffle=True,\n",
    ")\n",
    "\n",
    "\n",
    "print(\"Starting Training\")\n",
    "for epoch in range(EPOCHS):\n",
    "    total_loss = 0\n",
    "    for x0, x1 in dataloader:\n",
    "        x0, x1 = x0.to(device), x1.to(device)\n",
    "        _, z0, p0 = model(x0)\n",
    "        _, z1, p1 = model(x1)\n",
    "        z0 = memory_bank(z0, update=False) # update can be True for z0 xor z1\n",
    "        z1 = memory_bank(z1, update=True)\n",
    "        loss = 0.5 * (criterion(z0, p1) + criterion(z1, p0))\n",
    "        total_loss += loss.detach()\n",
    "        loss.backward()\n",
    "        optimizer.step()\n",
    "        optimizer.zero_grad()\n",
    "    avg_loss = total_loss / len(dataloader)\n",
    "    print(f\"epoch: {epoch:>02}, loss: {avg_loss:.5f}\")\n",
    "    # random sample\n",
    "    # knn fit\n",
    "    # knn prediction"
   ]
  },
  {
   "cell_type": "code",
   "execution_count": 14,
   "metadata": {},
   "outputs": [],
   "source": [
    "torch.cuda.empty_cache()"
   ]
  },
  {
   "cell_type": "code",
   "execution_count": 7,
   "metadata": {},
   "outputs": [],
   "source": [
    "# save model checkpoint\n",
    "model_name = \"nnclr_head_test1.pth\"\n",
    "# torch.save(model.state_dict(), os.path.join(model_path, model_name))"
   ]
  },
  {
   "cell_type": "code",
   "execution_count": 13,
   "metadata": {},
   "outputs": [
    {
     "data": {
      "text/plain": [
       "NNCLRHead(\n",
       "  (projection_head): NNCLRProjectionHead(\n",
       "    (layers): Sequential(\n",
       "      (0): Linear(in_features=1024, out_features=2048, bias=False)\n",
       "      (1): BatchNorm1d(2048, eps=1e-05, momentum=0.1, affine=True, track_running_stats=True)\n",
       "      (2): ReLU()\n",
       "      (3): Linear(in_features=2048, out_features=2048, bias=False)\n",
       "      (4): BatchNorm1d(2048, eps=1e-05, momentum=0.1, affine=True, track_running_stats=True)\n",
       "      (5): ReLU()\n",
       "      (6): Linear(in_features=2048, out_features=256, bias=False)\n",
       "      (7): BatchNorm1d(256, eps=1e-05, momentum=0.1, affine=True, track_running_stats=True)\n",
       "    )\n",
       "  )\n",
       "  (prediction_head): NNCLRPredictionHead(\n",
       "    (layers): Sequential(\n",
       "      (0): Linear(in_features=256, out_features=4096, bias=False)\n",
       "      (1): BatchNorm1d(4096, eps=1e-05, momentum=0.1, affine=True, track_running_stats=True)\n",
       "      (2): ReLU()\n",
       "      (3): Linear(in_features=4096, out_features=256, bias=True)\n",
       "    )\n",
       "  )\n",
       ")"
      ]
     },
     "execution_count": 13,
     "metadata": {},
     "output_type": "execute_result"
    }
   ],
   "source": [
    "# load model checkpoint\n",
    "model = NNCLRHead(PROJECT_HIDDEN_DIM, \n",
    "                  PROJECT_OUTPUT_DIM, \n",
    "                  PREDICTION_HIDDEN_DIM, \n",
    "                  PREDICTION_OUTPUT_DIM)\n",
    "model.load_state_dict(torch.load(os.path.join(model_path, model_name)))\n",
    "model.to(device)"
   ]
  },
  {
   "cell_type": "markdown",
   "metadata": {},
   "source": [
    "# UMAP"
   ]
  },
  {
   "cell_type": "code",
   "execution_count": 18,
   "metadata": {},
   "outputs": [],
   "source": [
    "# load the test set\n",
    "test_features = torch.load(os.path.join(data_path, \"mae_l23_cls_test_centercrop.th\"))\n",
    "test_dataloader = torch.utils.data.DataLoader(test_features, \n",
    "                                              batch_size=1,\n",
    "                                              shuffle=False)"
   ]
  },
  {
   "cell_type": "code",
   "execution_count": 19,
   "metadata": {},
   "outputs": [],
   "source": [
    "model.eval()\n",
    "with torch.inference_mode():\n",
    "    test_embeddings = []\n",
    "    for x in test_dataloader:\n",
    "        x = x.to(device)\n",
    "        l, z, p = model(x)\n",
    "        test_embeddings.append(p.cpu())"
   ]
  },
  {
   "cell_type": "code",
   "execution_count": 20,
   "metadata": {},
   "outputs": [
    {
     "data": {
      "text/plain": [
       "(50000, 2)"
      ]
     },
     "execution_count": 20,
     "metadata": {},
     "output_type": "execute_result"
    }
   ],
   "source": [
    "reducer = umap.UMAP()\n",
    "test_embeddings = torch.cat(test_embeddings, axis = 0)\n",
    "embedding = reducer.fit_transform(test_embeddings)\n",
    "embedding.shape"
   ]
  },
  {
   "cell_type": "code",
   "execution_count": 21,
   "metadata": {},
   "outputs": [
    {
     "name": "stderr",
     "output_type": "stream",
     "text": [
      "C:\\Users\\lopez\\AppData\\Local\\Temp\\ipykernel_19468\\2626005214.py:4: MatplotlibDeprecationWarning: The get_cmap function was deprecated in Matplotlib 3.7 and will be removed two minor releases later. Use ``matplotlib.colormaps[name]`` or ``matplotlib.colormaps.get_cmap(obj)`` instead.\n",
      "  colors = plt.cm.get_cmap('Dark2', len(unique_labels))\n"
     ]
    },
    {
     "data": {
      "image/png": "[encoded data removed]",
      "text/plain": [
       "<Figure size 640x480 with 1 Axes>"
      ]
     },
     "metadata": {},
     "output_type": "display_data"
    }
   ],
   "source": [
    "fig, ax = plt.subplots()\n",
    "unique_labels = np.unique(category_labels)\n",
    "\n",
    "colors = plt.cm.get_cmap('Dark2', len(unique_labels))\n",
    "\n",
    "#scatter = ax.scatter(embedding[:, 0], embedding[:, 1], c = colors, alpha=0.5, s = 5)\n",
    "\n",
    "for i, label in enumerate(unique_labels):\n",
    "    ax.scatter(embedding[:, 0][category_labels == label], embedding[:, 1][category_labels == label], color=colors(i), label=f'Label {label}', s = 5)\n",
    "\n",
    "ax.legend(title=\"Labels\")\n",
    "plt.show()"
   ]
  },
  {
   "cell_type": "markdown",
   "metadata": {},
   "source": [
    "# k-NN"
   ]
  },
  {
   "cell_type": "code",
   "execution_count": 23,
   "metadata": {},
   "outputs": [],
   "source": [
    "# randomly sample 10% of training data and use as training set for k-NN classifier\n",
    "# sampling needs to be deterministic\n",
    "# sampling can be done after a training epoch and can be seen as a form of a \"test set\" \n",
    "torch.manual_seed(42)\n",
    "train_features = torch.load(os.path.join(data_path, \"mae_l23_cls_train_centercrop.th\"))\n",
    "train_labels = torch.load(os.path.join(data_path, \"train-labels.th\"))\n",
    "train_indices = torch.randperm(len(train_labels))[:int(0.1*len(train_labels))]\n",
    "train_features = train_features[train_indices]\n",
    "train_labels = train_labels[train_indices]\n",
    "\n",
    "# Pass train features through the model\n",
    "model.eval()\n",
    "with torch.inference_mode():\n",
    "    train_embeddings = []\n",
    "    for x in train_features:\n",
    "        x = x.unsqueeze(0).to(device)\n",
    "        _, z, p = model(x)\n",
    "        train_embeddings.append(p.cpu())"
   ]
  },
  {
   "cell_type": "code",
   "execution_count": 24,
   "metadata": {},
   "outputs": [
    {
     "name": "stdout",
     "output_type": "stream",
     "text": [
      "[394   0   0   0   0   0   0   0   0   0]\n"
     ]
    }
   ],
   "source": [
    "# normalize the embeddings\n",
    "train_embeddings = torch.cat(train_embeddings, axis = 0)\n",
    "train_emb = train_embeddings.numpy()\n",
    "train_x = normalize(train_emb, norm='l2', axis=1)\n",
    "# print(test_x)\n",
    "\n",
    "\n",
    "# fit a k-nearest neighbor classifier\n",
    "knn = KNeighborsClassifier(n_neighbors=10, metric='cosine')\n",
    "knn.fit(train_x, train_labels.numpy())\n",
    "\n",
    "#Define the test x\n",
    "test_x = test_embeddings.numpy()\n",
    "test_x = normalize(test_x, norm='l2', axis=1)\n",
    "\n",
    "prediction = knn.predict(test_x[0:10])\n",
    "print(prediction)"
   ]
  },
  {
   "cell_type": "markdown",
   "metadata": {},
   "source": [
    "# Less Class Training"
   ]
  },
  {
   "cell_type": "code",
   "execution_count": 30,
   "metadata": {},
   "outputs": [
    {
     "name": "stdout",
     "output_type": "stream",
     "text": [
      "115322\n",
      "128116\n",
      "0.90013737550345\n"
     ]
    }
   ],
   "source": [
    "# remove x number of classes from the training set and see how the model performs\n",
    "def remove_classes_randomly(features, labels, num_classes_to_remove=10):\n",
    "    unique_labels = labels.unique() # 1000\n",
    "    classes_to_remove = torch.randperm(len(unique_labels))[:num_classes_to_remove]\n",
    "    mask = torch.ones(len(labels), dtype=torch.bool)\n",
    "    for c in classes_to_remove:\n",
    "        mask = mask & (labels != c) # if labels == c, mask = False and if labels != c, mask = True\n",
    "    return features[mask], labels[mask]\n",
    "\n",
    "# remove 100 classes from the training set\n",
    "reduced_train_features, reduced_train_labels = remove_classes_randomly(train_features, train_labels, 100)\n",
    "\n",
    "print(len(reduced_train_labels))\n",
    "print(len(train_labels))\n",
    "print(len(reduced_train_labels)/len(train_labels))"
   ]
  },
  {
   "cell_type": "code",
   "execution_count": null,
   "metadata": {},
   "outputs": [],
   "source": [
    "def remove_classes_by_category(features, labels, num_classes_to_remove, category_to_remove, method):\n",
    "    pass"
   ]
  },
  {
   "cell_type": "code",
   "execution_count": null,
   "metadata": {},
   "outputs": [],
   "source": []
  }
 ],
 "metadata": {
  "kernelspec": {
   "display_name": "jku-pr",
   "language": "python",
   "name": "python3"
  },
  "language_info": {
   "codemirror_mode": {
    "name": "ipython",
    "version": 3
   },
   "file_extension": ".py",
   "mimetype": "text/x-python",
   "name": "python",
   "nbconvert_exporter": "python",
   "pygments_lexer": "ipython3",
   "version": "3.9.18"
  }
 },
 "nbformat": 4,
 "nbformat_minor": 2
}
