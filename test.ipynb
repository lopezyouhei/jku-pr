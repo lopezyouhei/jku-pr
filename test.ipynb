{
 "cells": [
  {
   "cell_type": "code",
   "execution_count": 16,
   "metadata": {},
   "outputs": [],
   "source": [
    "import os\n",
    "import torch\n",
    "from torch.utils.data import DataLoader\n",
    "\n",
    "from PR.utils import load_yaml\n",
    "from PR.config.class_group import categories\n",
    "from PR.NNCLR.model import NNCLRHead\n",
    "from PR.metrics.metrics_utils import group_classes"
   ]
  },
  {
   "cell_type": "code",
   "execution_count": 17,
   "metadata": {},
   "outputs": [],
   "source": [
    "device = \"cuda\" if torch.cuda.is_available() else \"cpu\""
   ]
  },
  {
   "cell_type": "markdown",
   "metadata": {},
   "source": [
    "# Define Paths and Load Data"
   ]
  },
  {
   "cell_type": "code",
   "execution_count": 18,
   "metadata": {},
   "outputs": [],
   "source": [
    "data_path = r\"C:\\Users\\lopez\\Projects\\jku-pr\\features_mae_large\"\n",
    "class_to_classid_path = os.path.join(data_path, \"in1k_class_to_classid.yaml\")\n",
    "train_path = os.path.join(data_path, \"mae_l23_cls_train_centercrop.th\")\n",
    "train_labels_path = os.path.join(data_path, \"train-labels.th\")\n",
    "test_path = os.path.join(data_path, \"mae_l23_cls_test_centercrop.th\")\n",
    "test_labels_path = os.path.join(data_path, \"test-labels.th\")\n",
    "\n",
    "class_to_classid = load_yaml(class_to_classid_path)\n",
    "train_data = torch.load(train_path, map_location=device)\n",
    "train_labels = torch.load(train_labels_path, map_location=device)\n",
    "test_data = torch.load(test_path, map_location=device)\n",
    "test_labels = torch.load(test_labels_path, map_location=device)\n",
    "\n",
    "train_dataloader = DataLoader(train_data, batch_size=1, shuffle=False)\n",
    "test_dataloader = DataLoader(test_data, batch_size=1, shuffle=False)"
   ]
  },
  {
   "cell_type": "markdown",
   "metadata": {},
   "source": [
    "# Load Model"
   ]
  },
  {
   "cell_type": "code",
   "execution_count": 19,
   "metadata": {},
   "outputs": [
    {
     "data": {
      "text/plain": [
       "<All keys matched successfully>"
      ]
     },
     "execution_count": 19,
     "metadata": {},
     "output_type": "execute_result"
    }
   ],
   "source": [
    "model_state_dict = r\"C:\\Users\\lopez\\Projects\\jku-pr\\models\\tensors_v1_seed_0_tensors_v2_seed_0_0_1-0_baseline.pth\"\n",
    "state_dict = torch.load(model_state_dict, map_location=device)\n",
    "\n",
    "model = NNCLRHead()\n",
    "model.load_state_dict(state_dict)"
   ]
  },
  {
   "cell_type": "markdown",
   "metadata": {},
   "source": [
    "# Group Data"
   ]
  },
  {
   "cell_type": "code",
   "execution_count": 20,
   "metadata": {},
   "outputs": [],
   "source": [
    "category_names, category_labels = group_classes(test_labels, categories, class_to_classid)"
   ]
  },
  {
   "cell_type": "code",
   "execution_count": null,
   "metadata": {},
   "outputs": [],
   "source": []
  }
 ],
 "metadata": {
  "kernelspec": {
   "display_name": "jku-pr",
   "language": "python",
   "name": "python3"
  },
  "language_info": {
   "codemirror_mode": {
    "name": "ipython",
    "version": 3
   },
   "file_extension": ".py",
   "mimetype": "text/x-python",
   "name": "python",
   "nbconvert_exporter": "python",
   "pygments_lexer": "ipython3",
   "version": "3.9.18"
  }
 },
 "nbformat": 4,
 "nbformat_minor": 2
}
