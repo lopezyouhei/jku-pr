{
 "cells": [
  {
   "cell_type": "code",
   "metadata": {
    "collapsed": true,
    "colab": {
     "base_uri": "https://localhost:8080/",
     "height": 70
    },
    "id": "oGr2mp721f1b",
    "executionInfo": {
     "status": "ok",
     "timestamp": 1714751349724,
     "user_tz": -120,
     "elapsed": 1871,
     "user": {
      "displayName": "Michi",
      "userId": "02190407348433206033"
     }
    },
    "outputId": "247b26ed-a287-4e19-a24d-6878aec06816",
    "ExecuteTime": {
     "end_time": "2024-05-04T10:43:15.265027Z",
     "start_time": "2024-05-04T10:43:15.243277Z"
    }
   },
   "source": [
    "import os\n",
    "\n",
    "try:\n",
    "    import google.colab\n",
    "    IN_COLAB = True\n",
    "except:\n",
    "    IN_COLAB = False\n",
    "\n",
    "if IN_COLAB:\n",
    "    from google.colab import drive\n",
    "    drive.mount('/content/drive')\n",
    "\n",
    "    root_path = '/content/drive/MyDrive/project_work_data/'\n",
    "\n",
    "    os.chdir(root_path)\n",
    "    !pwd\n",
    "else:\n",
    "    root_path = r\"C:/Users/Michi/Desktop/jupyter_working_dir/Seminar_and_Practical_Work/Data/\"\n",
    "    #root_path = r\"C:/Users/meyer/Downloads/Project\"\n",
    "    os.chdir(root_path)\n",
    "    os.getcwd()\n",
    "\n",
    "root_path"
   ],
   "outputs": [
    {
     "data": {
      "text/plain": [
       "'C:/Users/Michi/Desktop/jupyter_working_dir/Seminar_and_Practical_Work/Data/'"
      ]
     },
     "execution_count": 1,
     "metadata": {},
     "output_type": "execute_result"
    }
   ],
   "execution_count": 1
  },
  {
   "cell_type": "code",
   "source": [
    "if IN_COLAB:\n",
    "  !pip install lightly\n",
    "  !pip install umap-learn\n",
    "  !pip install umap-learn[plot]\n",
    "\n",
    "import numpy as np\n",
    "\n",
    "import torch\n",
    "from torch.utils.data import DataLoader\n",
    "import os\n",
    "import matplotlib.pyplot as plt\n",
    "from torch import nn\n",
    "from lightly.loss import NTXentLoss\n",
    "from lightly.models.modules import NNCLRPredictionHead, NNCLRProjectionHead, NNMemoryBankModule\n",
    "from torch import optim\n",
    "from tqdm.notebook import trange\n",
    "from sklearn.cluster import MiniBatchKMeans\n",
    "\n",
    "import umap\n",
    "import umap.plot\n",
    "import yaml\n",
    "import nltk\n",
    "nltk.download('wordnet')\n",
    "from nltk.corpus import wordnet as wn\n",
    "\n",
    "device = 'cuda' if torch.cuda.is_available() else 'cpu'\n",
    "\n",
    "from nltk.corpus import wordnet as wn"
   ],
   "metadata": {
    "pycharm": {
     "name": "#%%\n"
    },
    "id": "f81L7GZ41f1e",
    "executionInfo": {
     "status": "ok",
     "timestamp": 1714751472477,
     "user_tz": -120,
     "elapsed": 29315,
     "user": {
      "displayName": "Michi",
      "userId": "02190407348433206033"
     }
    },
    "colab": {
     "base_uri": "https://localhost:8080/"
    },
    "outputId": "6775d844-01a7-4c3c-ef4a-90c130a3e4e7",
    "ExecuteTime": {
     "end_time": "2024-05-04T10:43:34.640193Z",
     "start_time": "2024-05-04T10:43:15.312701Z"
    }
   },
   "outputs": [
    {
     "name": "stderr",
     "output_type": "stream",
     "text": [
      "C:\\Users\\Michi\\anaconda3\\Lib\\site-packages\\paramiko\\transport.py:219: CryptographyDeprecationWarning: Blowfish has been deprecated and will be removed in a future release\n",
      "  \"class\": algorithms.Blowfish,\n",
      "[nltk_data] Downloading package wordnet to\n",
      "[nltk_data]     C:\\Users\\Michi\\AppData\\Roaming\\nltk_data...\n",
      "[nltk_data]   Package wordnet is already up-to-date!\n"
     ]
    }
   ],
   "execution_count": 2
  },
  {
   "cell_type": "code",
   "source": [
    "# LOAD LABELS AND FEATURES OF THE TRAINING AND TEST SET\n",
    "\n",
    "if IN_COLAB:\n",
    "    train_features = torch.load(root_path + \"/features_mae_large/mae_l23_cls_train_centercrop.th\")\n",
    "    train_labels = torch.load(root_path + \"/features_mae_large/train-labels.th\")\n",
    "    test_features = torch.load(root_path + \"/features_mae_large/mae_l23_cls_test_centercrop.th\")\n",
    "    test_labels = torch.load(root_path + \"/features_mae_large/test-labels.th\")\n",
    "\n",
    "else:\n",
    "    #train_features = torch.load(\"mae_l23_cls_train_centercrop.th\")\n",
    "    #train_labels = torch.load(\"train-labels.th\")\n",
    "    test_features = torch.load(\"mae_l23_cls_test_centercrop.th\")\n",
    "    test_labels = torch.load(\"test-labels.th\")\n",
    "\n",
    "#os.listdir(root_path)"
   ],
   "metadata": {
    "pycharm": {
     "name": "#%%\n"
    },
    "id": "YVHRBbyz1f1l",
    "executionInfo": {
     "status": "ok",
     "timestamp": 1714751563652,
     "user_tz": -120,
     "elapsed": 74563,
     "user": {
      "displayName": "Michi",
      "userId": "02190407348433206033"
     }
    },
    "ExecuteTime": {
     "end_time": "2024-05-04T10:43:34.778518Z",
     "start_time": "2024-05-04T10:43:34.640193Z"
    }
   },
   "outputs": [],
   "execution_count": 3
  },
  {
   "cell_type": "code",
   "source": [
    "class Dataset(torch.utils.data.Dataset):\n",
    "    def __init__(self, view1_path, view2_path):\n",
    "\n",
    "        self.data1 = torch.load(view1_path)\n",
    "        self.data2 = torch.load(view2_path)\n",
    "        assert self.data1.shape == self.data2.shape, \"view1 and view2 must have the same shape\"\n",
    "        self.length = self.data1.shape[0]\n",
    "\n",
    "    def __len__(self):\n",
    "        return self.length\n",
    "\n",
    "    def __getitem__(self, idx):\n",
    "        return self.data1[idx], self.data2[idx]"
   ],
   "metadata": {
    "pycharm": {
     "name": "#%%\n"
    },
    "id": "XRZ2BRW91f1o",
    "executionInfo": {
     "status": "ok",
     "timestamp": 1714751574120,
     "user_tz": -120,
     "elapsed": 238,
     "user": {
      "displayName": "Michi",
      "userId": "02190407348433206033"
     }
    },
    "ExecuteTime": {
     "end_time": "2024-05-04T10:43:34.792544Z",
     "start_time": "2024-05-04T10:43:34.778518Z"
    }
   },
   "outputs": [],
   "execution_count": 4
  },
  {
   "cell_type": "code",
   "source": [
    "class NNCLR(nn.Module):\n",
    "    \"Prediction head used for NNCLR.“The architecture of the prediction MLP g is 2 fully-connected layers of size [4096,d]. The hidden layer of the prediction MLP is followed by batch-norm and ReLU. The last layer has no batch-norm or activation.”\"\n",
    "    def __init__(self):\n",
    "        super().__init__()\n",
    "        self.projection_head = NNCLRProjectionHead(input_dim=1024, hidden_dim=2048, output_dim=256)\n",
    "        self.prediction_head = NNCLRPredictionHead(input_dim=256, hidden_dim=4096, output_dim=256)\n",
    "\n",
    "    def forward(self, x):\n",
    "\n",
    "        z = self.projection_head(x.flatten(start_dim=1))\n",
    "        p = self.prediction_head(z)\n",
    "        z = z.detach()\n",
    "        return z, p\n"
   ],
   "metadata": {
    "pycharm": {
     "name": "#%%\n"
    },
    "id": "fo8kC-b11f1q",
    "executionInfo": {
     "status": "ok",
     "timestamp": 1714751575067,
     "user_tz": -120,
     "elapsed": 11,
     "user": {
      "displayName": "Michi",
      "userId": "02190407348433206033"
     }
    },
    "ExecuteTime": {
     "end_time": "2024-05-04T10:43:34.807801Z",
     "start_time": "2024-05-04T10:43:34.794562Z"
    }
   },
   "outputs": [],
   "execution_count": 5
  },
  {
   "cell_type": "code",
   "source": [
    "if IN_COLAB:\n",
    "    samples_train = Dataset(root_path + \"features_mae_large/tensors_v1_seed_1.th\", root_path + \"features_mae_large/tensors_v2_seed_1.th\")\n",
    "\n",
    "    dataloader = torch.utils.data.DataLoader(\n",
    "        samples_train,\n",
    "        batch_size = 1024,    # 4096 in the NNCLR paper\n",
    "        shuffle = True,\n",
    "        drop_last = True,\n",
    "        num_workers = 4,\n",
    "        )\n",
    "else:\n",
    "    print(\"no colab in use => no training\")"
   ],
   "metadata": {
    "pycharm": {
     "name": "#%%\n"
    },
    "id": "nRWeF9mX1f1r",
    "executionInfo": {
     "status": "ok",
     "timestamp": 1714751723719,
     "user_tz": -120,
     "elapsed": 145733,
     "user": {
      "displayName": "Michi",
      "userId": "02190407348433206033"
     }
    },
    "ExecuteTime": {
     "end_time": "2024-05-04T10:43:34.822840Z",
     "start_time": "2024-05-04T10:43:34.807801Z"
    }
   },
   "outputs": [
    {
     "name": "stdout",
     "output_type": "stream",
     "text": [
      "no colab in use => no training\n"
     ]
    }
   ],
   "execution_count": 6
  },
  {
   "cell_type": "code",
   "source": [
    "model = NNCLR()\n",
    "model.to(device)\n",
    "\n",
    "memory_bank = NNMemoryBankModule(size=(65536, 256))                                 # 98304, 256 in the NNCLR paper\n",
    "memory_bank.to(device)\n",
    "\n",
    "criterion = NTXentLoss(temperature = 0.15)                                          # 0.1 in the NNCLR paper\n",
    "optimizer = torch.optim.SGD(model.parameters(), lr=1e-4, weight_decay=1e-5)         # 0.3, 1e-6 in the NNCLR paper\n",
    "\n",
    "for modules in model.modules():\n",
    "    print(modules)"
   ],
   "metadata": {
    "pycharm": {
     "name": "#%%\n"
    },
    "id": "w5WCAS201f1u",
    "executionInfo": {
     "status": "ok",
     "timestamp": 1714751723967,
     "user_tz": -120,
     "elapsed": 256,
     "user": {
      "displayName": "Michi",
      "userId": "02190407348433206033"
     }
    },
    "ExecuteTime": {
     "end_time": "2024-05-04T13:20:43.068195Z",
     "start_time": "2024-05-04T13:20:42.724824Z"
    }
   },
   "outputs": [
    {
     "name": "stdout",
     "output_type": "stream",
     "text": [
      "NNCLR(\n",
      "  (projection_head): NNCLRProjectionHead(\n",
      "    (layers): Sequential(\n",
      "      (0): Linear(in_features=1024, out_features=2048, bias=False)\n",
      "      (1): BatchNorm1d(2048, eps=1e-05, momentum=0.1, affine=True, track_running_stats=True)\n",
      "      (2): ReLU()\n",
      "      (3): Linear(in_features=2048, out_features=2048, bias=False)\n",
      "      (4): BatchNorm1d(2048, eps=1e-05, momentum=0.1, affine=True, track_running_stats=True)\n",
      "      (5): ReLU()\n",
      "      (6): Linear(in_features=2048, out_features=256, bias=False)\n",
      "      (7): BatchNorm1d(256, eps=1e-05, momentum=0.1, affine=True, track_running_stats=True)\n",
      "    )\n",
      "  )\n",
      "  (prediction_head): NNCLRPredictionHead(\n",
      "    (layers): Sequential(\n",
      "      (0): Linear(in_features=256, out_features=4096, bias=False)\n",
      "      (1): BatchNorm1d(4096, eps=1e-05, momentum=0.1, affine=True, track_running_stats=True)\n",
      "      (2): ReLU()\n",
      "      (3): Linear(in_features=4096, out_features=256, bias=True)\n",
      "    )\n",
      "  )\n",
      ")\n",
      "NNCLRProjectionHead(\n",
      "  (layers): Sequential(\n",
      "    (0): Linear(in_features=1024, out_features=2048, bias=False)\n",
      "    (1): BatchNorm1d(2048, eps=1e-05, momentum=0.1, affine=True, track_running_stats=True)\n",
      "    (2): ReLU()\n",
      "    (3): Linear(in_features=2048, out_features=2048, bias=False)\n",
      "    (4): BatchNorm1d(2048, eps=1e-05, momentum=0.1, affine=True, track_running_stats=True)\n",
      "    (5): ReLU()\n",
      "    (6): Linear(in_features=2048, out_features=256, bias=False)\n",
      "    (7): BatchNorm1d(256, eps=1e-05, momentum=0.1, affine=True, track_running_stats=True)\n",
      "  )\n",
      ")\n",
      "Sequential(\n",
      "  (0): Linear(in_features=1024, out_features=2048, bias=False)\n",
      "  (1): BatchNorm1d(2048, eps=1e-05, momentum=0.1, affine=True, track_running_stats=True)\n",
      "  (2): ReLU()\n",
      "  (3): Linear(in_features=2048, out_features=2048, bias=False)\n",
      "  (4): BatchNorm1d(2048, eps=1e-05, momentum=0.1, affine=True, track_running_stats=True)\n",
      "  (5): ReLU()\n",
      "  (6): Linear(in_features=2048, out_features=256, bias=False)\n",
      "  (7): BatchNorm1d(256, eps=1e-05, momentum=0.1, affine=True, track_running_stats=True)\n",
      ")\n",
      "Linear(in_features=1024, out_features=2048, bias=False)\n",
      "BatchNorm1d(2048, eps=1e-05, momentum=0.1, affine=True, track_running_stats=True)\n",
      "ReLU()\n",
      "Linear(in_features=2048, out_features=2048, bias=False)\n",
      "BatchNorm1d(2048, eps=1e-05, momentum=0.1, affine=True, track_running_stats=True)\n",
      "ReLU()\n",
      "Linear(in_features=2048, out_features=256, bias=False)\n",
      "BatchNorm1d(256, eps=1e-05, momentum=0.1, affine=True, track_running_stats=True)\n",
      "NNCLRPredictionHead(\n",
      "  (layers): Sequential(\n",
      "    (0): Linear(in_features=256, out_features=4096, bias=False)\n",
      "    (1): BatchNorm1d(4096, eps=1e-05, momentum=0.1, affine=True, track_running_stats=True)\n",
      "    (2): ReLU()\n",
      "    (3): Linear(in_features=4096, out_features=256, bias=True)\n",
      "  )\n",
      ")\n",
      "Sequential(\n",
      "  (0): Linear(in_features=256, out_features=4096, bias=False)\n",
      "  (1): BatchNorm1d(4096, eps=1e-05, momentum=0.1, affine=True, track_running_stats=True)\n",
      "  (2): ReLU()\n",
      "  (3): Linear(in_features=4096, out_features=256, bias=True)\n",
      ")\n",
      "Linear(in_features=256, out_features=4096, bias=False)\n",
      "BatchNorm1d(4096, eps=1e-05, momentum=0.1, affine=True, track_running_stats=True)\n",
      "ReLU()\n",
      "Linear(in_features=4096, out_features=256, bias=True)\n"
     ]
    }
   ],
   "execution_count": 24
  },
  {
   "cell_type": "code",
   "source": [
    "if IN_COLAB:\n",
    "    print(\"Starting Training\")\n",
    "    for epoch in range(10):\n",
    "        total_loss = 0\n",
    "        for batch in dataloader:\n",
    "            x0, x1 = batch\n",
    "            x0 = x0.to(device)\n",
    "            x1 = x1.to(device)\n",
    "            z0, p0 = model(x0)\n",
    "            z1, p1 = model(x1)\n",
    "            z0 = memory_bank(z0, update=False)\n",
    "            z1 = memory_bank(z1, update=True)\n",
    "            loss = 0.5 * (criterion(z0, p1) + criterion(z1, p0))\n",
    "            total_loss += loss.detach()\n",
    "            loss.backward()\n",
    "            optimizer.step()\n",
    "            optimizer.zero_grad()\n",
    "        avg_loss = total_loss / len(dataloader)\n",
    "        print(f\"epoch: {epoch:>02}, loss: {avg_loss:.5f}\")\n",
    "else:\n",
    "    print(\"no colab in use => no training\")\n",
    "\n",
    "#######\n",
    "# Print model's state_dict\n",
    "\n",
    "#print(\"Model's state_dict:\")\n",
    "#for param_tensor in model.state_dict():\n",
    "#    print(param_tensor, \"\\t\", model.state_dict()[param_tensor].size())"
   ],
   "metadata": {
    "pycharm": {
     "name": "#%%\n"
    },
    "id": "fpR-Zos71f1x",
    "outputId": "ec0b7cd0-0e65-468b-dbf0-cab6ba6cb83f",
    "colab": {
     "base_uri": "https://localhost:8080/"
    },
    "ExecuteTime": {
     "end_time": "2024-05-04T13:20:23.053126Z",
     "start_time": "2024-05-04T13:20:23.034297Z"
    }
   },
   "outputs": [
    {
     "name": "stdout",
     "output_type": "stream",
     "text": [
      "no colab in use => no training\n",
      "Model's state_dict:\n",
      "projection_head.layers.0.weight \t torch.Size([2048, 1024])\n",
      "projection_head.layers.1.weight \t torch.Size([2048])\n",
      "projection_head.layers.1.bias \t torch.Size([2048])\n",
      "projection_head.layers.1.running_mean \t torch.Size([2048])\n",
      "projection_head.layers.1.running_var \t torch.Size([2048])\n",
      "projection_head.layers.1.num_batches_tracked \t torch.Size([])\n",
      "projection_head.layers.3.weight \t torch.Size([2048, 2048])\n",
      "projection_head.layers.4.weight \t torch.Size([2048])\n",
      "projection_head.layers.4.bias \t torch.Size([2048])\n",
      "projection_head.layers.4.running_mean \t torch.Size([2048])\n",
      "projection_head.layers.4.running_var \t torch.Size([2048])\n",
      "projection_head.layers.4.num_batches_tracked \t torch.Size([])\n",
      "projection_head.layers.6.weight \t torch.Size([256, 2048])\n",
      "projection_head.layers.7.weight \t torch.Size([256])\n",
      "projection_head.layers.7.bias \t torch.Size([256])\n",
      "projection_head.layers.7.running_mean \t torch.Size([256])\n",
      "projection_head.layers.7.running_var \t torch.Size([256])\n",
      "projection_head.layers.7.num_batches_tracked \t torch.Size([])\n",
      "prediction_head.layers.0.weight \t torch.Size([4096, 256])\n",
      "prediction_head.layers.1.weight \t torch.Size([4096])\n",
      "prediction_head.layers.1.bias \t torch.Size([4096])\n",
      "prediction_head.layers.1.running_mean \t torch.Size([4096])\n",
      "prediction_head.layers.1.running_var \t torch.Size([4096])\n",
      "prediction_head.layers.1.num_batches_tracked \t torch.Size([])\n",
      "prediction_head.layers.3.weight \t torch.Size([256, 4096])\n",
      "prediction_head.layers.3.bias \t torch.Size([256])\n"
     ]
    }
   ],
   "execution_count": 23
  },
  {
   "metadata": {
    "id": "NXbfSbt1ItXp",
    "outputId": "436d2cf5-0a28-48e7-a09c-d2ae7b9a6af5",
    "ExecuteTime": {
     "end_time": "2024-05-04T10:43:35.222703Z",
     "start_time": "2024-05-04T10:43:35.109858Z"
    }
   },
   "cell_type": "code",
   "source": [
    "counter = 0\n",
    "filename = 'checkpoint_{}.pth'\n",
    "root_path_drive = r\"G:/Meine Ablage/project_work_data/\"\n",
    "\n",
    "while os.path.isfile(root_path_drive + filename.format(counter)):\n",
    "    counter += 1\n",
    "\n",
    "filename_Colab = filename.format(counter)\n",
    "filename_noColab = filename.format(counter-1)\n",
    "\n",
    "print(filename_Colab)\n",
    "print(filename_noColab)\n",
    "\n",
    "if IN_COLAB:\n",
    "    torch.save(model.state_dict(), filename_Colab)\n",
    "    state_dict = torch.load(root_path_drive + filename_Colab, map_location = device)\n",
    "    # print(state_dict.keys())\n",
    "    model.load_state_dict(state_dict)\n",
    "else:\n",
    "    print(\"no colab in use => no training, no storing\")\n",
    "    state_dict = torch.load(root_path_drive + filename_noColab, map_location = device)\n",
    "    # print(state_dict.keys())\n",
    "    model.load_state_dict(state_dict)\n",
    "\n",
    "del counter, filename, filename_Colab, filename_noColab, root_path_drive\n",
    "\n",
    "#os.listdir(root_path_drive)"
   ],
   "outputs": [
    {
     "name": "stdout",
     "output_type": "stream",
     "text": [
      "checkpoint_3.pth\n",
      "checkpoint_2.pth\n",
      "no colab in use => no training, no storing\n"
     ]
    }
   ],
   "execution_count": 9
  },
  {
   "cell_type": "code",
   "source": [
    "test_set = DataLoader(test_features, batch_size = 1)\n",
    "model.eval()\n",
    "\n",
    "def prediction(model, test_set):  \n",
    "    with torch.no_grad():\n",
    "        proj = []\n",
    "        pred = []\n",
    "        for ii, data in enumerate(test_set):\n",
    "            input = data\n",
    "            input = input.to(device)\n",
    "            output = model(input)\n",
    "    \n",
    "            proj.append(output[0])\n",
    "            pred.append(output[1])\n",
    "    return proj, pred\n",
    "\n",
    "proj, pred = prediction(model, test_set)\n"
   ],
   "metadata": {
    "id": "5y7N15rQVHYk",
    "ExecuteTime": {
     "end_time": "2024-05-04T10:45:51.179368Z",
     "start_time": "2024-05-04T10:43:35.222703Z"
    }
   },
   "outputs": [],
   "execution_count": 10
  },
  {
   "metadata": {
    "id": "qwMn4t9sItXr",
    "ExecuteTime": {
     "end_time": "2024-05-04T10:46:08.435141Z",
     "start_time": "2024-05-04T10:46:08.340580Z"
    }
   },
   "cell_type": "code",
   "source": [
    "# Load each YAML file into a dictionary\n",
    "def load_yaml(file_path):\n",
    "    with open(file_path, 'r') as file:\n",
    "        return yaml.safe_load(file)\n",
    "\n",
    "#classid_to_names = load_yaml(os.path.join(root_path, \"in1k_classid_to_names.yaml\"))\n",
    "class_to_classid = load_yaml(os.path.join(root_path, \"in1k_class_to_classid.yaml\"))\n",
    "#class_to_classname = load_yaml(os.path.join(root_path, \"in1k_class_to_classname.yaml\"))"
   ],
   "outputs": [],
   "execution_count": 11
  },
  {
   "metadata": {
    "id": "OJkCFmfZItXs",
    "ExecuteTime": {
     "end_time": "2024-05-04T13:08:51.511952Z",
     "start_time": "2024-05-04T13:08:51.490935Z"
    }
   },
   "cell_type": "code",
   "source": [
    "# dictionary for higher-level categories for UMAP visualization\n",
    "categories = {\n",
    "    'animals': 'animal.n.01',\n",
    "    'vehicles': 'vehicle.n.01',\n",
    "    'household': 'artifact.n.01',\n",
    "    'food': 'food.n.01',\n",
    "    'nature': 'natural_object.n.01',\n",
    "}\n",
    "\n",
    "categories = {\n",
    "    'animals': 'animal.n.01',\n",
    "    'vehicles': 'vehicle.n.01',\n",
    "    'food': 'food.n.01',\n",
    "}\n",
    "\n",
    "categories = {\n",
    "    'animals': 'animal.n.01',\n",
    "    'dog': 'dog.n.01',\n",
    "}\n",
    "\n",
    "categories = {\n",
    "    'bird': 'bird.n.01',\n",
    "    'dog': 'dog.n.01',\n",
    "}\n",
    "\n",
    "categories = {\n",
    "    'food': 'food.n.01',\n",
    "    'dog': 'dog.n.01',\n",
    "}\n",
    "# just a function to help with checking if category exists\n",
    "def check_synset_exists(synset_name):\n",
    "    try:\n",
    "        # Attempt to fetch the synset using the provided name\n",
    "        syn = wn.synset(synset_name)\n",
    "        return True, syn.definition()  # Return True and the definition if it exists\n",
    "    except nltk.corpus.reader.wordnet.WordNetError:\n",
    "        return False, None  # Return False and None if the synset does not exist\n",
    "\n",
    "def get_category(labels, categories, class_to_classid):\n",
    "    category_list = list(categories.keys())\n",
    "    synset_list = list(categories.values())\n",
    "\n",
    "    for synset_name in synset_list:\n",
    "        if not check_synset_exists(synset_name):\n",
    "            raise ValueError(\n",
    "                f\"The synset '{synset_name}' is not valid.\"\n",
    "            )\n",
    "\n",
    "    # initialize list to store category labels\n",
    "    category_labels = []\n",
    "    # loop through all labels\n",
    "    for label in labels:\n",
    "        # get the class_id from the class_to_classid dictionary\n",
    "        class_id = class_to_classid[label.item()]\n",
    "        synset = wn.synset_from_pos_and_offset('n', int(class_id[1:]))\n",
    "        searching = True\n",
    "        while searching:\n",
    "            # check if the synset is in the synset_list\n",
    "            if synset.name() in synset_list:\n",
    "                # if it is, add the category to the category_labels list\n",
    "                category_labels.append(synset_list.index(synset.name()))\n",
    "                searching = False\n",
    "            else:\n",
    "                try:\n",
    "                    # if it is not, move up the hypernym tree\n",
    "                    synset = synset.hypernyms()[0]\n",
    "                except:\n",
    "                    # if there are no more hypernyms, add -1 to the category_labels list\n",
    "                    category_labels.append(-1)\n",
    "                    searching = False\n",
    "\n",
    "    return category_list, category_labels\n"
   ],
   "outputs": [],
   "execution_count": 18
  },
  {
   "metadata": {
    "id": "9FFlnfjFItXt",
    "outputId": "2c0d76fb-3120-4bab-d698-e19f27a6c37d",
    "ExecuteTime": {
     "end_time": "2024-05-04T13:08:53.135306Z",
     "start_time": "2024-05-04T13:08:51.780869Z"
    }
   },
   "cell_type": "code",
   "source": [
    "category_names, category_labels = get_category(test_labels, categories, class_to_classid)\n",
    "torch.Tensor(category_labels).unique(return_counts=True)"
   ],
   "outputs": [
    {
     "data": {
      "text/plain": [
       "(tensor([-1.,  0.,  1.]), tensor([43000,  1100,  5900]))"
      ]
     },
     "execution_count": 19,
     "metadata": {},
     "output_type": "execute_result"
    }
   ],
   "execution_count": 19
  },
  {
   "metadata": {
    "id": "US-yH3cUItXt",
    "ExecuteTime": {
     "end_time": "2024-05-04T13:09:14.375003Z",
     "start_time": "2024-05-04T13:09:14.344065Z"
    }
   },
   "cell_type": "code",
   "source": [
    "cat_0 = (np.array(category_labels) == 0) | (np.array(category_labels) ==1) | (np.array(category_labels) ==2) | (np.array(category_labels) ==3) | (np.array(category_labels) ==4)\n",
    "\n",
    "#cat_0_feat = test_features[cat_0]\n",
    "#cat_0_label = test_labels[cat_0]\n"
   ],
   "outputs": [],
   "execution_count": 20
  },
  {
   "metadata": {
    "id": "wjexe25WItXv",
    "outputId": "bf8bae44-a46d-47d0-e740-10f64270d958",
    "ExecuteTime": {
     "end_time": "2024-05-04T10:46:56.966416Z",
     "start_time": "2024-05-04T10:46:26.922633Z"
    }
   },
   "cell_type": "code",
   "source": [
    "reducer = umap.UMAP(n_components=2)\n",
    "\n",
    "z = torch.cat(proj, axis=0)\n",
    "z = z[cat_0]\n",
    "z_UMAP = reducer.fit_transform(z)\n",
    "print(\"shape of z: \", z.shape, \"shape of z_UMAP: \", z_UMAP.shape)\n",
    "\n",
    "p = torch.cat(pred, axis=0)\n",
    "p = p[cat_0]\n",
    "p_UMAP = reducer.fit_transform(p)\n",
    "print(\"shape of p: \", z.shape, \"shape of p_UMAP: \", z_UMAP.shape)\n",
    "\n",
    "del z, p"
   ],
   "outputs": [
    {
     "name": "stdout",
     "output_type": "stream",
     "text": [
      "shape of z:  torch.Size([7000, 256]) shape of z_UMAP:  (7000, 2)\n",
      "shape of p:  torch.Size([7000, 256]) shape of p_UMAP:  (7000, 2)\n"
     ]
    }
   ],
   "execution_count": 15
  },
  {
   "metadata": {
    "ExecuteTime": {
     "end_time": "2024-05-04T13:14:52.900255Z",
     "start_time": "2024-05-04T13:14:52.266458Z"
    }
   },
   "cell_type": "code",
   "source": [
    "#### UMAP visualization\n",
    "\n",
    "fig, (ax1, ax2) = plt.subplots(1, 2)\n",
    "cat_l = np.array(category_labels)\n",
    "cat_l = list(cat_l[cat_0])\n",
    "\n",
    "unique_labels = np.unique(cat_l)\n",
    "\n",
    "colors = plt.cm.get_cmap('jet', len(unique_labels))\n",
    "\n",
    "\n",
    "for i, label in enumerate(unique_labels):\n",
    "    \n",
    "    ax1.scatter(z_UMAP[:, 0][cat_l == label], z_UMAP[:, 1][cat_l == label], color=colors(i),label=f'Label {label}', s=1)\n",
    "    ax1.legend(category_names)\n",
    "    ax2.scatter(p_UMAP[:, 0][cat_l == label], p_UMAP[:, 1][cat_l == label], color=colors(i), label=f'Label {label}', s=1)\n",
    "    ax2.legend(category_names)\n",
    "    \n",
    "del i  \n",
    "plt.show()"
   ],
   "outputs": [
    {
     "name": "stderr",
     "output_type": "stream",
     "text": [
      "C:\\Users\\Michi\\AppData\\Local\\Temp\\ipykernel_2324\\2299869872.py:9: MatplotlibDeprecationWarning: The get_cmap function was deprecated in Matplotlib 3.7 and will be removed two minor releases later. Use ``matplotlib.colormaps[name]`` or ``matplotlib.colormaps.get_cmap(obj)`` instead.\n",
      "  colors = plt.cm.get_cmap('jet', len(unique_labels))\n"
     ]
    },
    {
     "data": {
      "text/plain": [
       "<Figure size 640x480 with 2 Axes>"
      ],
      "image/png": "[encoded data removed]"
     },
     "metadata": {},
     "output_type": "display_data"
    }
   ],
   "execution_count": 21
  },
  {
   "metadata": {
    "ExecuteTime": {
     "end_time": "2024-05-04T13:17:27.007516Z",
     "start_time": "2024-05-04T13:17:25.271464Z"
    }
   },
   "cell_type": "code",
   "source": [
    "kmeans = MiniBatchKMeans(\n",
    "    n_clusters=len(unique_labels),\n",
    "    random_state=0,\n",
    "    batch_size=6,\n",
    "    n_init=\"auto\",\n",
    ")\n",
    "kmeans.fit(p_UMAP)    \n",
    "x = kmeans.predict(p_UMAP)\n",
    "kmeans.cluster_centers_\n",
    "\n",
    "#kmeans.predict(test)"
   ],
   "outputs": [
    {
     "name": "stderr",
     "output_type": "stream",
     "text": [
      "C:\\Users\\Michi\\anaconda3\\Lib\\site-packages\\sklearn\\cluster\\_kmeans.py:1902: UserWarning: MiniBatchKMeans is known to have a memory leak on Windows with MKL, when there are less chunks than available threads. You can prevent it by setting batch_size >= 1536 or by setting the environment variable OMP_NUM_THREADS=1\n",
      "  warnings.warn(\n"
     ]
    },
    {
     "data": {
      "text/plain": [
       "array([[8.463483 , 2.2644792],\n",
       "       [1.3342993, 5.0147967]], dtype=float32)"
      ]
     },
     "execution_count": 22,
     "metadata": {},
     "output_type": "execute_result"
    }
   ],
   "execution_count": 22
  },
  {
   "metadata": {},
   "cell_type": "code",
   "outputs": [],
   "execution_count": null,
   "source": ""
  }
 ],
 "metadata": {
  "kernelspec": {
   "display_name": "Python 3 (ipykernel)",
   "name": "python3",
   "language": "python"
  },
  "language_info": {
   "codemirror_mode": {
    "name": "ipython",
    "version": 2
   },
   "file_extension": ".py",
   "mimetype": "text/x-python",
   "name": "python",
   "nbconvert_exporter": "python",
   "pygments_lexer": "ipython2",
   "version": "2.7.6"
  },
  "colab": {
   "provenance": [],
   "gpuType": "V28",
   "machine_shape": "hm"
  },
  "accelerator": "TPU"
 },
 "nbformat": 4,
 "nbformat_minor": 0
}
