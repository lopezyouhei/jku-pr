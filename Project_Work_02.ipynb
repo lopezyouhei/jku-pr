{
 "cells": [
  {
   "cell_type": "code",
   "execution_count": 1,
   "metadata": {
    "ExecuteTime": {
     "end_time": "2024-05-01T11:32:48.088113Z",
     "start_time": "2024-05-01T11:32:48.064407Z"
    },
    "colab": {
     "base_uri": "https://localhost:8080/",
     "height": 91
    },
    "collapsed": true,
    "executionInfo": {
     "elapsed": 1877,
     "status": "ok",
     "timestamp": 1713695510810,
     "user": {
      "displayName": "Michi",
      "userId": "02190407348433206033"
     },
     "user_tz": -120
    },
    "id": "oGr2mp721f1b",
    "outputId": "8c9711ef-9184-4a13-f06d-6ea808bd9d26"
   },
   "outputs": [
    {
     "data": {
      "text/plain": [
       "'C:/Users/meyer/Downloads/Project'"
      ]
     },
     "execution_count": 1,
     "metadata": {},
     "output_type": "execute_result"
    }
   ],
   "source": [
    "import os\n",
    "\n",
    "try:\n",
    "    import google.colab\n",
    "    IN_COLAB = True\n",
    "except:\n",
    "    IN_COLAB = False\n",
    "\n",
    "if IN_COLAB:\n",
    "    from google.colab import drive\n",
    "    drive.mount('/content/drive')\n",
    "\n",
    "    root_path = '/content/drive/MyDrive/project_work_data/'\n",
    "\n",
    "    os.chdir(root_path)\n",
    "    !pwd\n",
    "else:\n",
    "    #root_path = r\"C:/Users/Michi/Desktop/jupyter_working_dir/Seminar_and_Practical_Work/Data/archiv/\"\n",
    "    root_path = r\"C:/Users/meyer/Downloads/Project\"\n",
    "    os.chdir(root_path)\n",
    "    os.getcwd()\n",
    "\n",
    "root_path"
   ]
  },
  {
   "cell_type": "code",
   "execution_count": 1,
   "metadata": {
    "ExecuteTime": {
     "end_time": "2024-05-01T13:06:40.685925Z",
     "start_time": "2024-05-01T13:06:37.057686Z"
    },
    "executionInfo": {
     "elapsed": 13441,
     "status": "ok",
     "timestamp": 1713695531359,
     "user": {
      "displayName": "Michi",
      "userId": "02190407348433206033"
     },
     "user_tz": -120
    },
    "id": "f81L7GZ41f1e",
    "pycharm": {
     "name": "#%%\n"
    }
   },
   "outputs": [
    {
     "name": "stderr",
     "output_type": "stream",
     "text": [
      "c:\\Users\\lopez\\anaconda3\\envs\\jku-pr\\lib\\site-packages\\dask\\dataframe\\_pyarrow_compat.py:17: FutureWarning: Minimal version of pyarrow will soon be increased to 14.0.1. You are using 11.0.0. Please consider upgrading.\n",
      "  warnings.warn(\n",
      "[nltk_data] Downloading package wordnet to\n",
      "[nltk_data]     C:\\Users\\lopez\\AppData\\Roaming\\nltk_data...\n",
      "[nltk_data]   Package wordnet is already up-to-date!\n"
     ]
    }
   ],
   "source": [
    "#if IN_COLAB:\n",
    "#  !pip install lightly\n",
    "\n",
    "import numpy as np\n",
    "\n",
    "import torch\n",
    "from torch.utils.data import DataLoader\n",
    "import os\n",
    "import matplotlib.pyplot as plt\n",
    "from torch import nn\n",
    "from lightly.loss import NTXentLoss\n",
    "from lightly.models.modules import NNCLRPredictionHead, NNCLRProjectionHead, NNMemoryBankModule\n",
    "from torch import optim\n",
    "from tqdm.notebook import trange\n",
    "\n",
    "device = 'cuda' if torch.cuda.is_available() else 'cpu'\n",
    "import umap\n",
    "import umap.plot\n",
    "import yaml\n",
    "import nltk\n",
    "nltk.download('wordnet')\n",
    "from nltk.corpus import wordnet as wn"
   ]
  },
  {
   "cell_type": "code",
   "execution_count": 3,
   "metadata": {
    "executionInfo": {
     "elapsed": 10,
     "status": "aborted",
     "timestamp": 1713695498940,
     "user": {
      "displayName": "Michi",
      "userId": "02190407348433206033"
     },
     "user_tz": -120
    },
    "id": "6ktflXHb1f1j",
    "pycharm": {
     "name": "#%%\n"
    }
   },
   "outputs": [],
   "source": [
    "#v1_epoch_2 = torch.load('tensors_v1_seed_2.th')\n",
    "#v2_epoch_2 = torch.load('tensors_v2_seed_2.th')"
   ]
  },
  {
   "cell_type": "code",
   "execution_count": 10,
   "metadata": {
    "ExecuteTime": {
     "end_time": "2024-05-01T11:43:47.064790Z",
     "start_time": "2024-05-01T11:43:46.984708Z"
    },
    "colab": {
     "base_uri": "https://localhost:8080/"
    },
    "executionInfo": {
     "elapsed": 12547,
     "status": "ok",
     "timestamp": 1713695550599,
     "user": {
      "displayName": "Michi",
      "userId": "02190407348433206033"
     },
     "user_tz": -120
    },
    "id": "YVHRBbyz1f1l",
    "outputId": "a57479e3-c71f-481c-ab46-3f9e05787cd8",
    "pycharm": {
     "name": "#%%\n"
    }
   },
   "outputs": [
    {
     "data": {
      "text/plain": [
       "['.idea',\n",
       " 'checkpoint1.pth',\n",
       " 'in1k_classid_to_names.yaml',\n",
       " 'in1k_class_to_classid.yaml',\n",
       " 'in1k_class_to_classname.yaml',\n",
       " 'mae_l23_cls_test_centercrop.th',\n",
       " 'ML_unsupervised.pdf',\n",
       " 'Project_Work_02.ipynb',\n",
       " 'test-labels.th']"
      ]
     },
     "execution_count": 10,
     "metadata": {},
     "output_type": "execute_result"
    }
   ],
   "source": [
    "# LOAD LABELS AND FEATURES OF THE TRAINING AND TEST SET\n",
    "\n",
    "if IN_COLAB:\n",
    "    #train_features = torch.load(root_path + \"/features_mae_large/mae_l23_cls_train_centercrop.th\")\n",
    "    #train_labels = torch.load(root_path + \"/features_mae_large/train-labels.th\")\n",
    "    test_features = torch.load(root_path + \"/features_mae_large/mae_l23_cls_test_centercrop.th\")\n",
    "    test_labels = torch.load(root_path + \"/features_mae_large/test-labels.th\")\n",
    "\n",
    "else:\n",
    "    #train_features = torch.load(\"mae_l23_cls_train_centercrop.th\")\n",
    "    #train_labels = torch.load(\"train-labels.th\")\n",
    "    test_features = torch.load(\"mae_l23_cls_test_centercrop.th\")\n",
    "    test_labels = torch.load(\"test-labels.th\")\n",
    "\n",
    "os.listdir(root_path)"
   ]
  },
  {
   "cell_type": "code",
   "execution_count": 3,
   "metadata": {
    "ExecuteTime": {
     "end_time": "2024-05-01T11:33:21.470988Z",
     "start_time": "2024-05-01T11:33:21.464883Z"
    },
    "executionInfo": {
     "elapsed": 327,
     "status": "ok",
     "timestamp": 1713695562848,
     "user": {
      "displayName": "Michi",
      "userId": "02190407348433206033"
     },
     "user_tz": -120
    },
    "id": "XRZ2BRW91f1o",
    "pycharm": {
     "name": "#%%\n"
    }
   },
   "outputs": [],
   "source": [
    "class Dataset(torch.utils.data.Dataset):\n",
    "    def __init__(self, view1_path, view2_path):\n",
    "\n",
    "        self.data1 = torch.load(view1_path)\n",
    "        self.data2 = torch.load(view2_path)\n",
    "        assert self.data1.shape == self.data2.shape, \"view1 and view2 must have the same shape\"\n",
    "        self.length = self.data1.shape[0]\n",
    "\n",
    "    def __len__(self):\n",
    "        return self.length\n",
    "\n",
    "    def __getitem__(self, idx):\n",
    "        return self.data1[idx], self.data2[idx]"
   ]
  },
  {
   "cell_type": "code",
   "execution_count": 4,
   "metadata": {
    "ExecuteTime": {
     "end_time": "2024-05-01T11:33:21.656427Z",
     "start_time": "2024-05-01T11:33:21.651005Z"
    },
    "executionInfo": {
     "elapsed": 2,
     "status": "ok",
     "timestamp": 1713695563219,
     "user": {
      "displayName": "Michi",
      "userId": "02190407348433206033"
     },
     "user_tz": -120
    },
    "id": "fo8kC-b11f1q",
    "pycharm": {
     "name": "#%%\n"
    }
   },
   "outputs": [],
   "source": [
    "class NNCLR(nn.Module):\n",
    "    \"Prediction head used for NNCLR.“The architecture of the prediction MLP g is 2 fully-connected layers of size [4096,d]. The hidden layer of the prediction MLP is followed by batch-norm and ReLU. The last layer has no batch-norm or activation.”\"\n",
    "    def __init__(self):\n",
    "        super().__init__()\n",
    "        self.projection_head = NNCLRProjectionHead(input_dim=1024, hidden_dim=2048, output_dim=256)\n",
    "        self.prediction_head = NNCLRPredictionHead(input_dim=256, hidden_dim=4096, output_dim=256)\n",
    "\n",
    "    def forward(self, x):\n",
    "\n",
    "        z = self.projection_head(x.flatten(start_dim=1))\n",
    "        p = self.prediction_head(z)\n",
    "        z = z.detach()\n",
    "        return z, p\n"
   ]
  },
  {
   "cell_type": "code",
   "execution_count": 7,
   "metadata": {
    "executionInfo": {
     "elapsed": 117395,
     "status": "ok",
     "timestamp": 1713695710289,
     "user": {
      "displayName": "Michi",
      "userId": "02190407348433206033"
     },
     "user_tz": -120
    },
    "id": "nRWeF9mX1f1r",
    "pycharm": {
     "name": "#%%\n"
    }
   },
   "outputs": [
    {
     "name": "stdout",
     "output_type": "stream",
     "text": [
      "no colab in use => no training\n"
     ]
    }
   ],
   "source": [
    "if IN_COLAB:\n",
    "    samples_train = Dataset(root_path + \"features_mae_large/tensors_v1_seed_0.th\", root_path + \"features_mae_large/tensors_v2_seed_0.th\")\n",
    "\n",
    "    dataloader = torch.utils.data.DataLoader(\n",
    "        samples_train,\n",
    "        batch_size = 4096,\n",
    "        shuffle = True,\n",
    "        drop_last = True,\n",
    "        num_workers = 2,\n",
    "        )\n",
    "else:\n",
    "    print(\"no colab in use => no training\")\n",
    "    #samples_train = Dataset(\"tensors_v1_seed_0.th\", \"tensors_v2_seed_0.th\")\n"
   ]
  },
  {
   "cell_type": "code",
   "execution_count": 5,
   "metadata": {
    "ExecuteTime": {
     "end_time": "2024-05-01T11:33:29.340546Z",
     "start_time": "2024-05-01T11:33:29.171922Z"
    },
    "executionInfo": {
     "elapsed": 374,
     "status": "ok",
     "timestamp": 1713695754931,
     "user": {
      "displayName": "Michi",
      "userId": "02190407348433206033"
     },
     "user_tz": -120
    },
    "id": "w5WCAS201f1u",
    "pycharm": {
     "name": "#%%\n"
    }
   },
   "outputs": [],
   "source": [
    "model = NNCLR()\n",
    "model.to(device)\n",
    "\n",
    "memory_bank = NNMemoryBankModule(size=(98304, 256))\n",
    "memory_bank.to(device)\n",
    "\n",
    "criterion = NTXentLoss(temperature = 0.1)\n",
    "optimizer = torch.optim.SGD(model.parameters(), lr=0.3, weight_decay=1e-6)\n"
   ]
  },
  {
   "cell_type": "code",
   "execution_count": 6,
   "metadata": {
    "ExecuteTime": {
     "end_time": "2024-05-01T11:33:31.291268Z",
     "start_time": "2024-05-01T11:33:31.282310Z"
    },
    "id": "Hzm_mdDf1f1v",
    "pycharm": {
     "name": "#%%\n"
    }
   },
   "outputs": [
    {
     "name": "stdout",
     "output_type": "stream",
     "text": [
      "NNCLR(\n",
      "  (projection_head): NNCLRProjectionHead(\n",
      "    (layers): Sequential(\n",
      "      (0): Linear(in_features=1024, out_features=2048, bias=False)\n",
      "      (1): BatchNorm1d(2048, eps=1e-05, momentum=0.1, affine=True, track_running_stats=True)\n",
      "      (2): ReLU()\n",
      "      (3): Linear(in_features=2048, out_features=2048, bias=False)\n",
      "      (4): BatchNorm1d(2048, eps=1e-05, momentum=0.1, affine=True, track_running_stats=True)\n",
      "      (5): ReLU()\n",
      "      (6): Linear(in_features=2048, out_features=256, bias=False)\n",
      "      (7): BatchNorm1d(256, eps=1e-05, momentum=0.1, affine=True, track_running_stats=True)\n",
      "    )\n",
      "  )\n",
      "  (prediction_head): NNCLRPredictionHead(\n",
      "    (layers): Sequential(\n",
      "      (0): Linear(in_features=256, out_features=4096, bias=False)\n",
      "      (1): BatchNorm1d(4096, eps=1e-05, momentum=0.1, affine=True, track_running_stats=True)\n",
      "      (2): ReLU()\n",
      "      (3): Linear(in_features=4096, out_features=256, bias=True)\n",
      "    )\n",
      "  )\n",
      ")\n",
      "NNCLRProjectionHead(\n",
      "  (layers): Sequential(\n",
      "    (0): Linear(in_features=1024, out_features=2048, bias=False)\n",
      "    (1): BatchNorm1d(2048, eps=1e-05, momentum=0.1, affine=True, track_running_stats=True)\n",
      "    (2): ReLU()\n",
      "    (3): Linear(in_features=2048, out_features=2048, bias=False)\n",
      "    (4): BatchNorm1d(2048, eps=1e-05, momentum=0.1, affine=True, track_running_stats=True)\n",
      "    (5): ReLU()\n",
      "    (6): Linear(in_features=2048, out_features=256, bias=False)\n",
      "    (7): BatchNorm1d(256, eps=1e-05, momentum=0.1, affine=True, track_running_stats=True)\n",
      "  )\n",
      ")\n",
      "Sequential(\n",
      "  (0): Linear(in_features=1024, out_features=2048, bias=False)\n",
      "  (1): BatchNorm1d(2048, eps=1e-05, momentum=0.1, affine=True, track_running_stats=True)\n",
      "  (2): ReLU()\n",
      "  (3): Linear(in_features=2048, out_features=2048, bias=False)\n",
      "  (4): BatchNorm1d(2048, eps=1e-05, momentum=0.1, affine=True, track_running_stats=True)\n",
      "  (5): ReLU()\n",
      "  (6): Linear(in_features=2048, out_features=256, bias=False)\n",
      "  (7): BatchNorm1d(256, eps=1e-05, momentum=0.1, affine=True, track_running_stats=True)\n",
      ")\n",
      "Linear(in_features=1024, out_features=2048, bias=False)\n",
      "BatchNorm1d(2048, eps=1e-05, momentum=0.1, affine=True, track_running_stats=True)\n",
      "ReLU()\n",
      "Linear(in_features=2048, out_features=2048, bias=False)\n",
      "BatchNorm1d(2048, eps=1e-05, momentum=0.1, affine=True, track_running_stats=True)\n",
      "ReLU()\n",
      "Linear(in_features=2048, out_features=256, bias=False)\n",
      "BatchNorm1d(256, eps=1e-05, momentum=0.1, affine=True, track_running_stats=True)\n",
      "NNCLRPredictionHead(\n",
      "  (layers): Sequential(\n",
      "    (0): Linear(in_features=256, out_features=4096, bias=False)\n",
      "    (1): BatchNorm1d(4096, eps=1e-05, momentum=0.1, affine=True, track_running_stats=True)\n",
      "    (2): ReLU()\n",
      "    (3): Linear(in_features=4096, out_features=256, bias=True)\n",
      "  )\n",
      ")\n",
      "Sequential(\n",
      "  (0): Linear(in_features=256, out_features=4096, bias=False)\n",
      "  (1): BatchNorm1d(4096, eps=1e-05, momentum=0.1, affine=True, track_running_stats=True)\n",
      "  (2): ReLU()\n",
      "  (3): Linear(in_features=4096, out_features=256, bias=True)\n",
      ")\n",
      "Linear(in_features=256, out_features=4096, bias=False)\n",
      "BatchNorm1d(4096, eps=1e-05, momentum=0.1, affine=True, track_running_stats=True)\n",
      "ReLU()\n",
      "Linear(in_features=4096, out_features=256, bias=True)\n"
     ]
    }
   ],
   "source": [
    "for modules in model.modules():\n",
    "    print(modules)"
   ]
  },
  {
   "cell_type": "code",
   "execution_count": 10,
   "metadata": {
    "colab": {
     "base_uri": "https://localhost:8080/"
    },
    "executionInfo": {
     "elapsed": 8674096,
     "status": "ok",
     "timestamp": 1713704433431,
     "user": {
      "displayName": "Michi",
      "userId": "02190407348433206033"
     },
     "user_tz": -120
    },
    "id": "fpR-Zos71f1x",
    "outputId": "5dfc5f40-131d-41ae-fa8f-78c416311c5a",
    "pycharm": {
     "name": "#%%\n"
    }
   },
   "outputs": [
    {
     "name": "stdout",
     "output_type": "stream",
     "text": [
      "no colab in use => no training\n"
     ]
    }
   ],
   "source": [
    "if IN_COLAB:\n",
    "    print(\"Starting Training\")\n",
    "    for epoch in range(10):\n",
    "        total_loss = 0\n",
    "        for batch in dataloader:\n",
    "            x0, x1 = batch\n",
    "            x0 = x0.to(device)\n",
    "            x1 = x1.to(device)\n",
    "            z0, p0 = model(x0)\n",
    "            z1, p1 = model(x1)\n",
    "            z0 = memory_bank(z0, update=False)\n",
    "            z1 = memory_bank(z1, update=True)\n",
    "            loss = 0.5 * (criterion(z0, p1) + criterion(z1, p0))\n",
    "            total_loss += loss.detach()\n",
    "            loss.backward()\n",
    "            optimizer.step()\n",
    "            optimizer.zero_grad()\n",
    "        avg_loss = total_loss / len(dataloader)\n",
    "        print(f\"epoch: {epoch:>02}, loss: {avg_loss:.5f}\")\n",
    "else:\n",
    "    print(\"no colab in use => no training\")\n",
    "\n"
   ]
  },
  {
   "cell_type": "code",
   "execution_count": 11,
   "metadata": {
    "id": "CW9_DCPvJ5R6",
    "outputId": "43aa5f29-e960-496e-9ad1-c62f80978b63"
   },
   "outputs": [
    {
     "name": "stdout",
     "output_type": "stream",
     "text": [
      "Model's state_dict:\n",
      "projection_head.layers.0.weight \t torch.Size([2048, 1024])\n",
      "projection_head.layers.1.weight \t torch.Size([2048])\n",
      "projection_head.layers.1.bias \t torch.Size([2048])\n",
      "projection_head.layers.1.running_mean \t torch.Size([2048])\n",
      "projection_head.layers.1.running_var \t torch.Size([2048])\n",
      "projection_head.layers.1.num_batches_tracked \t torch.Size([])\n",
      "projection_head.layers.3.weight \t torch.Size([2048, 2048])\n",
      "projection_head.layers.4.weight \t torch.Size([2048])\n",
      "projection_head.layers.4.bias \t torch.Size([2048])\n",
      "projection_head.layers.4.running_mean \t torch.Size([2048])\n",
      "projection_head.layers.4.running_var \t torch.Size([2048])\n",
      "projection_head.layers.4.num_batches_tracked \t torch.Size([])\n",
      "projection_head.layers.6.weight \t torch.Size([256, 2048])\n",
      "projection_head.layers.7.weight \t torch.Size([256])\n",
      "projection_head.layers.7.bias \t torch.Size([256])\n",
      "projection_head.layers.7.running_mean \t torch.Size([256])\n",
      "projection_head.layers.7.running_var \t torch.Size([256])\n",
      "projection_head.layers.7.num_batches_tracked \t torch.Size([])\n",
      "prediction_head.layers.0.weight \t torch.Size([4096, 256])\n",
      "prediction_head.layers.1.weight \t torch.Size([4096])\n",
      "prediction_head.layers.1.bias \t torch.Size([4096])\n",
      "prediction_head.layers.1.running_mean \t torch.Size([4096])\n",
      "prediction_head.layers.1.running_var \t torch.Size([4096])\n",
      "prediction_head.layers.1.num_batches_tracked \t torch.Size([])\n",
      "prediction_head.layers.3.weight \t torch.Size([256, 4096])\n",
      "prediction_head.layers.3.bias \t torch.Size([256])\n"
     ]
    }
   ],
   "source": [
    "# Print model's state_dict\n",
    "print(\"Model's state_dict:\")\n",
    "for param_tensor in model.state_dict():\n",
    "    print(param_tensor, \"\\t\", model.state_dict()[param_tensor].size())\n",
    "\n",
    "# Print optimizer's state_dict\n",
    "#print(\"Optimizer's state_dict:\")\n",
    "#for var_name in optimizer.state_dict():\n",
    "#    print(var_name, \"\\t\", optimizer.state_dict()[var_name])"
   ]
  },
  {
   "cell_type": "code",
   "execution_count": 12,
   "metadata": {
    "executionInfo": {
     "elapsed": 24,
     "status": "ok",
     "timestamp": 1713704433747,
     "user": {
      "displayName": "Michi",
      "userId": "02190407348433206033"
     },
     "user_tz": -120
    },
    "id": "KhQX-MW8LeYR"
   },
   "outputs": [
    {
     "name": "stdout",
     "output_type": "stream",
     "text": [
      "no colab in use => no training, no storing\n"
     ]
    }
   ],
   "source": [
    "torch.save(model.state_dict(), 'checkpoint1.pth')\n",
    "\n",
    "if IN_COLAB:\n",
    "    torch.save(model.state_dict(), 'checkpoint1.pth')\n",
    "else:\n",
    "    print(\"no colab in use => no training, no storing\")"
   ]
  },
  {
   "cell_type": "code",
   "execution_count": 7,
   "metadata": {
    "ExecuteTime": {
     "end_time": "2024-05-01T11:33:39.701962Z",
     "start_time": "2024-05-01T11:33:39.651505Z"
    },
    "colab": {
     "base_uri": "https://localhost:8080/"
    },
    "executionInfo": {
     "elapsed": 8,
     "status": "ok",
     "timestamp": 1713630403885,
     "user": {
      "displayName": "Michi",
      "userId": "02190407348433206033"
     },
     "user_tz": -120
    },
    "id": "YwuFUDAJL0IB",
    "outputId": "0baebc39-2318-4206-c5ba-f64ddcf20af3"
   },
   "outputs": [
    {
     "name": "stdout",
     "output_type": "stream",
     "text": [
      "odict_keys(['projection_head.layers.0.weight', 'projection_head.layers.1.weight', 'projection_head.layers.1.bias', 'projection_head.layers.1.running_mean', 'projection_head.layers.1.running_var', 'projection_head.layers.1.num_batches_tracked', 'projection_head.layers.3.weight', 'projection_head.layers.4.weight', 'projection_head.layers.4.bias', 'projection_head.layers.4.running_mean', 'projection_head.layers.4.running_var', 'projection_head.layers.4.num_batches_tracked', 'projection_head.layers.6.weight', 'projection_head.layers.7.weight', 'projection_head.layers.7.bias', 'projection_head.layers.7.running_mean', 'projection_head.layers.7.running_var', 'projection_head.layers.7.num_batches_tracked', 'prediction_head.layers.0.weight', 'prediction_head.layers.1.weight', 'prediction_head.layers.1.bias', 'prediction_head.layers.1.running_mean', 'prediction_head.layers.1.running_var', 'prediction_head.layers.1.num_batches_tracked', 'prediction_head.layers.3.weight', 'prediction_head.layers.3.bias'])\n"
     ]
    },
    {
     "data": {
      "text/plain": [
       "<All keys matched successfully>"
      ]
     },
     "execution_count": 7,
     "metadata": {},
     "output_type": "execute_result"
    }
   ],
   "source": [
    "state_dict = torch.load('checkpoint1.pth', map_location=device)\n",
    "print(state_dict.keys())\n",
    "model.load_state_dict(state_dict)"
   ]
  },
  {
   "cell_type": "code",
   "execution_count": 18,
   "metadata": {
    "ExecuteTime": {
     "end_time": "2024-05-01T12:19:42.534065Z",
     "start_time": "2024-05-01T12:18:42.782079Z"
    },
    "id": "5y7N15rQVHYk"
   },
   "outputs": [],
   "source": [
    "test_set = DataLoader(test_features, batch_size = 1)\n",
    "model.eval()\n",
    "\n",
    "with torch.no_grad():    \n",
    "    pred = []\n",
    "    for ii, data in enumerate(test_set):\n",
    "        input = data\n",
    "        input = input.to(device)\n",
    "        prediction = model(input)\n",
    "        #prediction = torch.argmax(prediction, 1)\n",
    "        pred.append(prediction[0])"
   ]
  },
  {
   "cell_type": "code",
   "execution_count": 25,
   "metadata": {
    "ExecuteTime": {
     "end_time": "2024-05-01T12:24:28.895309Z",
     "start_time": "2024-05-01T12:23:58.841264Z"
    }
   },
   "outputs": [
    {
     "data": {
      "text/plain": [
       "(50000, 2)"
      ]
     },
     "execution_count": 25,
     "metadata": {},
     "output_type": "execute_result"
    }
   ],
   "source": [
    "reducer = umap.UMAP()\n",
    "pred_tensor = torch.cat(pred, axis = 0)\n",
    "embedding = reducer.fit_transform(pred_tensor)\n",
    "embedding.shape"
   ]
  },
  {
   "cell_type": "code",
   "execution_count": 65,
   "metadata": {
    "ExecuteTime": {
     "end_time": "2024-05-01T13:30:19.286479Z",
     "start_time": "2024-05-01T13:30:18.194296Z"
    }
   },
   "outputs": [
    {
     "name": "stderr",
     "output_type": "stream",
     "text": [
      "C:\\Users\\meyer\\AppData\\Local\\Temp\\ipykernel_16236\\492781963.py:9: MatplotlibDeprecationWarning: The get_cmap function was deprecated in Matplotlib 3.7 and will be removed two minor releases later. Use ``matplotlib.colormaps[name]`` or ``matplotlib.colormaps.get_cmap(obj)`` instead.\n",
      "  colors = plt.cm.get_cmap('hsv', len(unique_labels))\n"
     ]
    },
    {
     "data": {
      "image/png": "[encoded data removed]",
      "text/plain": [
       "<Figure size 640x480 with 1 Axes>"
      ]
     },
     "metadata": {},
     "output_type": "display_data"
    }
   ],
   "source": [
    "# umap.plot.points(embedding)\n",
    "#plt.scatter(embedding[:, 0], embedding[:, 1], c = category_labels, alpha=0.5, s = 5)\n",
    "\n",
    "\n",
    "\n",
    "fig, ax = plt.subplots()\n",
    "unique_labels = np.unique(category_labels)\n",
    "\n",
    "colors = plt.cm.get_cmap('hsv', len(unique_labels))\n",
    "\n",
    "\n",
    "#scatter = ax.scatter(embedding[:, 0], embedding[:, 1], c = colors, alpha=0.5, s = 5)\n",
    "\n",
    "\n",
    "for i, label in enumerate(unique_labels):\n",
    "    ax.scatter(embedding[:, 0][category_labels == label], embedding[:, 1][category_labels == label], color=colors(i), label=f'Label {label}', s = 5)\n",
    "\n",
    "ax.legend(title=\"Labels\")\n",
    "plt.show()\n"
   ]
  },
  {
   "cell_type": "code",
   "execution_count": 43,
   "metadata": {
    "ExecuteTime": {
     "end_time": "2024-05-01T13:06:54.900930Z",
     "start_time": "2024-05-01T13:06:54.683019Z"
    }
   },
   "outputs": [],
   "source": [
    "# Load each YAML file into a dictionary\n",
    "def load_yaml(file_path):\n",
    "    with open(file_path, 'r') as file:\n",
    "        return yaml.safe_load(file)\n",
    "\n",
    "classid_to_names = load_yaml(os.path.join(root_path, \"in1k_classid_to_names.yaml\"))\n",
    "class_to_classid = load_yaml(os.path.join(root_path, \"in1k_class_to_classid.yaml\"))\n",
    "class_to_classname = load_yaml(os.path.join(root_path, \"in1k_class_to_classname.yaml\"))"
   ]
  },
  {
   "cell_type": "code",
   "execution_count": 44,
   "metadata": {
    "ExecuteTime": {
     "end_time": "2024-05-01T13:06:54.971068Z",
     "start_time": "2024-05-01T13:06:54.965935Z"
    }
   },
   "outputs": [],
   "source": [
    "# dictionary for higher-level categories for UMAP visualization\n",
    "categories = {\n",
    "    'animals': 'animal.n.01',\n",
    "    'vehicles': 'vehicle.n.01',\n",
    "    'household': 'artifact.n.01',\n",
    "    'food': 'food.n.01',\n",
    "    'nature': 'natural_object.n.01'\n",
    "}\n",
    "\n",
    "# just a function to help with checking if category exists\n",
    "def check_synset_exists(synset_name):\n",
    "    try:\n",
    "        # Attempt to fetch the synset using the provided name\n",
    "        syn = wn.synset(synset_name)\n",
    "        return True, syn.definition()  # Return True and the definition if it exists\n",
    "    except nltk.corpus.reader.wordnet.WordNetError:\n",
    "        return False, None  # Return False and None if the synset does not exist\n",
    "\n",
    "def get_category(labels, categories, class_to_classid):\n",
    "    category_list = list(categories.keys())\n",
    "    synset_list = list(categories.values())\n",
    "\n",
    "    for synset_name in synset_list:\n",
    "        if not check_synset_exists(synset_name):\n",
    "            raise ValueError(\n",
    "                f\"The synset '{synset_name}' is not valid.\"\n",
    "            )\n",
    "\n",
    "    # initialize list to store category labels\n",
    "    category_labels = []\n",
    "    # loop through all labels\n",
    "    for label in labels:\n",
    "        # get the class_id from the class_to_classid dictionary\n",
    "        class_id = class_to_classid[label.item()]\n",
    "        synset = wn.synset_from_pos_and_offset('n', int(class_id[1:]))\n",
    "        searching = True\n",
    "        while searching:\n",
    "            # check if the synset is in the synset_list\n",
    "            if synset.name() in synset_list:\n",
    "                # if it is, add the category to the category_labels list\n",
    "                category_labels.append(synset_list.index(synset.name()))\n",
    "                searching = False\n",
    "            else:\n",
    "                try:\n",
    "                    # if it is not, move up the hypernym tree\n",
    "                    synset = synset.hypernyms()[0]\n",
    "                except:\n",
    "                    # if there are no more hypernyms, add -1 to the category_labels list\n",
    "                    category_labels.append(-1)\n",
    "                    searching = False\n",
    "\n",
    "    return category_list, category_labels\n"
   ]
  },
  {
   "cell_type": "code",
   "execution_count": 45,
   "metadata": {
    "ExecuteTime": {
     "end_time": "2024-05-01T13:06:55.910600Z",
     "start_time": "2024-05-01T13:06:55.318909Z"
    }
   },
   "outputs": [],
   "source": [
    "category_names, category_labels = get_category(test_labels, categories, class_to_classid)"
   ]
  },
  {
   "cell_type": "code",
   "execution_count": 46,
   "metadata": {
    "ExecuteTime": {
     "end_time": "2024-05-01T13:07:53.926464Z",
     "start_time": "2024-05-01T13:07:53.918213Z"
    }
   },
   "outputs": [
    {
     "data": {
      "text/plain": [
       "(tensor([-1.,  0.,  1.,  2.,  3.,  4.]),\n",
       " tensor([ 2050, 19900,  1200, 24900,  1100,   850]))"
      ]
     },
     "execution_count": 46,
     "metadata": {},
     "output_type": "execute_result"
    }
   ],
   "source": [
    "torch.Tensor(category_labels).unique(return_counts=True)"
   ]
  },
  {
   "cell_type": "code",
   "execution_count": null,
   "metadata": {},
   "outputs": [],
   "source": []
  }
 ],
 "metadata": {
  "accelerator": "TPU",
  "colab": {
   "gpuType": "V28",
   "machine_shape": "hm",
   "provenance": []
  },
  "kernelspec": {
   "display_name": "Python 3 (ipykernel)",
   "language": "python",
   "name": "python3"
  },
  "language_info": {
   "codemirror_mode": {
    "name": "ipython",
    "version": 3
   },
   "file_extension": ".py",
   "mimetype": "text/x-python",
   "name": "python",
   "nbconvert_exporter": "python",
   "pygments_lexer": "ipython3",
   "version": "3.9.18"
  }
 },
 "nbformat": 4,
 "nbformat_minor": 0
}
